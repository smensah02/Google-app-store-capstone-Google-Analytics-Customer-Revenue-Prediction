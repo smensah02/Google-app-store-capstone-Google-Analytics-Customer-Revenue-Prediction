{
 "cells": [
  {
   "cell_type": "markdown",
   "metadata": {},
   "source": [
    "# Capstone Project - Google Predictive Analytics"
   ]
  },
  {
   "cell_type": "markdown",
   "metadata": {},
   "source": [
    "## Part_7: Modeling_Comparison\n",
    "\n",
    "### Comparing models listed below and their perfomances\n",
    "- LinearRegression\n",
    "- DecisionTreeRegressor\n",
    "- ExtraTreesRegressor\n",
    "- RandomForestRegressor\n",
    "- AdaBoostRegressor\n",
    "- GradientBoostingRegressor\n",
    "- Simple Vector Machine "
   ]
  },
  {
   "cell_type": "code",
   "execution_count": 1,
   "metadata": {},
   "outputs": [],
   "source": [
    "import pandas as pd\n",
    "import numpy as np"
   ]
  },
  {
   "cell_type": "code",
   "execution_count": 2,
   "metadata": {},
   "outputs": [],
   "source": [
    "import matplotlib\n",
    "import matplotlib.pyplot as plt\n",
    "import seaborn as sns\n",
    "plt.style.use('fivethirtyeight')\n",
    "\n",
    "%config InlineBackend.figure_format = 'retina'\n",
    "sns.set_style('whitegrid')\n",
    "plt.style.use('fivethirtyeight')\n",
    "%matplotlib inline"
   ]
  },
  {
   "cell_type": "code",
   "execution_count": 3,
   "metadata": {},
   "outputs": [],
   "source": [
    "df = pd.read_csv('../capstone_data/kaggle_data/df_dummies_tables.csv')"
   ]
  },
  {
   "cell_type": "code",
   "execution_count": 4,
   "metadata": {},
   "outputs": [
    {
     "data": {
      "text/plain": [
       "(903653, 506)"
      ]
     },
     "execution_count": 4,
     "metadata": {},
     "output_type": "execute_result"
    }
   ],
   "source": [
    "df.shape"
   ]
  },
  {
   "cell_type": "markdown",
   "metadata": {},
   "source": [
    "#### Train_test_split and model with various Regression"
   ]
  },
  {
   "cell_type": "code",
   "execution_count": 5,
   "metadata": {},
   "outputs": [],
   "source": [
    "from sklearn.model_selection import train_test_split, cross_val_score\n",
    "from sklearn.pipeline import Pipeline\n",
    "from sklearn.preprocessing import StandardScaler, PolynomialFeatures"
   ]
  },
  {
   "cell_type": "code",
   "execution_count": 6,
   "metadata": {},
   "outputs": [],
   "source": [
    "from sklearn.linear_model import LinearRegression\n",
    "from sklearn.neighbors import KNeighborsRegressor\n",
    "from sklearn.tree import DecisionTreeRegressor\n",
    "from sklearn.ensemble import ExtraTreesRegressor, RandomForestRegressor, AdaBoostRegressor, GradientBoostingRegressor\n",
    "from sklearn.svm import SVR"
   ]
  },
  {
   "cell_type": "code",
   "execution_count": 7,
   "metadata": {},
   "outputs": [
    {
     "data": {
      "text/plain": [
       "array([[-0.01152441, -0.1359686 , -0.4336323 , ...,  0.5341481 ,\n",
       "        -0.40559985, -0.03229096],\n",
       "       [-0.01152441, -0.1359686 , -0.4336323 , ...,  0.5341481 ,\n",
       "        -0.40559985, -0.03229096],\n",
       "       [-0.01152441, -0.1359686 , -0.4336323 , ...,  0.5341481 ,\n",
       "        -0.40559985, -0.03229096],\n",
       "       ...,\n",
       "       [-0.01152441, -0.1359686 , -0.4336323 , ...,  0.5341481 ,\n",
       "         2.44137601, -0.03229096],\n",
       "       [-0.01152441, -0.1359686 , -0.4336323 , ...,  0.5341481 ,\n",
       "         2.58372481, -0.03229096],\n",
       "       [-0.01152441, -0.1359686 , -0.4336323 , ...,  0.5341481 ,\n",
       "         3.86486395, -0.03229096]])"
      ]
     },
     "execution_count": 7,
     "metadata": {},
     "output_type": "execute_result"
    }
   ],
   "source": [
    "ss = StandardScaler()\n",
    "ss.fit(df)\n",
    "\n",
    "X_s = ss.transform(df)\n",
    "\n",
    "X_s"
   ]
  },
  {
   "cell_type": "code",
   "execution_count": 8,
   "metadata": {},
   "outputs": [
    {
     "data": {
      "text/plain": [
       "0    0.0\n",
       "1    0.0\n",
       "2    0.0\n",
       "3    0.0\n",
       "4    0.0\n",
       "Name: transactionRevenue, dtype: float64"
      ]
     },
     "execution_count": 8,
     "metadata": {},
     "output_type": "execute_result"
    }
   ],
   "source": [
    "y = df['transactionRevenue']\n",
    "y.head()"
   ]
  },
  {
   "cell_type": "code",
   "execution_count": 9,
   "metadata": {},
   "outputs": [],
   "source": [
    "X_train, X_test, y_train, y_test = train_test_split(X_s, y, random_state=42)"
   ]
  },
  {
   "cell_type": "code",
   "execution_count": 10,
   "metadata": {},
   "outputs": [],
   "source": [
    "lr = LinearRegression()\n",
    "dtr = DecisionTreeRegressor()\n",
    "etr = ExtraTreesRegressor()\n",
    "rfr = RandomForestRegressor()\n",
    "abr = AdaBoostRegressor()\n",
    "gbr = GradientBoostingRegressor()\n",
    "svr = SVR()\n",
    "\n",
    "list_of_models = [lr, dtr, etr, rfr, abr, gbr, svr]"
   ]
  },
  {
   "cell_type": "code",
   "execution_count": null,
   "metadata": {},
   "outputs": [
    {
     "name": "stdout",
     "output_type": "stream",
     "text": [
      "LinearRegression\n",
      "Training score:\n",
      "1.0\n",
      "Testing score:\n",
      "-220.0415012211023\n",
      "\n",
      "DecisionTreeRegressor\n",
      "Training score:\n",
      "0.9999999999991275\n",
      "Testing score:\n",
      "0.9504939651705513\n",
      "\n",
      "ExtraTreesRegressor\n",
      "Training score:\n",
      "0.999999999998394\n",
      "Testing score:\n",
      "0.9991338361395896\n",
      "\n",
      "RandomForestRegressor\n",
      "Training score:\n",
      "0.9770270964310994\n",
      "Testing score:\n",
      "0.9732557033553639\n",
      "\n",
      "AdaBoostRegressor\n",
      "Training score:\n",
      "0.9494835426723149\n",
      "Testing score:\n",
      "0.8933452358517872\n",
      "\n",
      "GradientBoostingRegressor\n",
      "Training score:\n",
      "0.9999393721053543\n",
      "Testing score:\n",
      "0.9759920054035719\n",
      "\n",
      "SVR\n"
     ]
    }
   ],
   "source": [
    "for each in list_of_models:\n",
    "    print(str(each).split('(')[0])\n",
    "    each.fit(X_train, y_train)\n",
    "    print('Training score:')\n",
    "    print(each.score(X_train, y_train))\n",
    "    print('Testing score:')\n",
    "    print(each.score(X_test, y_test))\n",
    "    print()"
   ]
  },
  {
   "cell_type": "code",
   "execution_count": null,
   "metadata": {},
   "outputs": [],
   "source": [
    "gbr.fit(X_train, y_train)"
   ]
  },
  {
   "cell_type": "code",
   "execution_count": null,
   "metadata": {},
   "outputs": [],
   "source": [
    "gbr.score(X_train, y_train), gbr.score(X_test, y_test)"
   ]
  },
  {
   "cell_type": "code",
   "execution_count": null,
   "metadata": {},
   "outputs": [],
   "source": [
    "from sklearn.metrics import mean_squared_error\n",
    "\n",
    "\n",
    "def str_from_model(model):\n",
    "    return str(model).split('(')[0]\n",
    "\n",
    "for each in list_of_models:\n",
    "    print('>', str_from_model(each))\n",
    "    print('Training RMSE:')\n",
    "    print(mean_squared_error(y_train, each.predict(X_train)) ** 0.5)\n",
    "    print (mean_squared_error(y_test, each.predict(X_test)) ** 0.5)\n",
    "    print('\\n**********\\n')"
   ]
  },
  {
   "cell_type": "code",
   "execution_count": null,
   "metadata": {},
   "outputs": [],
   "source": [
    "from sklearn.metrics import mean_squared_error"
   ]
  },
  {
   "cell_type": "code",
   "execution_count": null,
   "metadata": {},
   "outputs": [],
   "source": [
    "print(mean_squared_error(y_train, gbr.predict(X_train)) ** 0.5)\n",
    "print (mean_squared_error(y_test, gbr.predict(X_test)) ** 0.5)  "
   ]
  },
  {
   "cell_type": "code",
   "execution_count": null,
   "metadata": {},
   "outputs": [],
   "source": []
  }
 ],
 "metadata": {
  "kernelspec": {
   "display_name": "Python 3",
   "language": "python",
   "name": "python3"
  },
  "language_info": {
   "codemirror_mode": {
    "name": "ipython",
    "version": 3
   },
   "file_extension": ".py",
   "mimetype": "text/x-python",
   "name": "python",
   "nbconvert_exporter": "python",
   "pygments_lexer": "ipython3",
   "version": "3.6.5"
  }
 },
 "nbformat": 4,
 "nbformat_minor": 2
}
