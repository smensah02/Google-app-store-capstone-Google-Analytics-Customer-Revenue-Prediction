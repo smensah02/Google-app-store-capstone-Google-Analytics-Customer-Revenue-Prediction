{
 "cells": [
  {
   "cell_type": "markdown",
   "metadata": {},
   "source": [
    "# Google Predictive Analysis Executive Report"
   ]
  },
  {
   "cell_type": "markdown",
   "metadata": {},
   "source": [
    ""
   ]
  },
  {
   "cell_type": "markdown",
   "metadata": {},
   "source": [
    "### Problem Statement\n",
    ">**Google Analytics Customer Revenue Prediction**\n",
    "\n",
    ">**Predict how much GStore customers will spend**\n",
    "\n",
    "Proposed Methods and Models\n",
    ">Since we are working with a `continuous` hence, `regression` model and our data set contains a `label`, I will be trying out different `supervised` models to find out which one is best and I would us `Root Mean Square Error` metric to check how well our model is doing. With this metric, the closer we are to `zero` for both our testing and training data, the better are model is doing.  To ensure that our data was equally scaled, a `Standard Scalar` scaling was applied at all times."
   ]
  },
  {
   "cell_type": "markdown",
   "metadata": {},
   "source": [
    "### Risks & assumptions of your data\n",
    "    Risks involved will be minimal. some of which includes having sufficient time to try out all of the intended models and also have insufficient memory to run some of the models"
   ]
  },
  {
   "cell_type": "markdown",
   "metadata": {},
   "source": [
    "Also this might be too aggressive given the nature/complexity of the dataset."
   ]
  },
  {
   "cell_type": "markdown",
   "metadata": {},
   "source": [
    "**Revise initial goals & success criteria, as needed**\n",
    "\n",
    "My goals remain the same as the criteria have been layout by kaggle competition. However, I may want to predict whether a site visit led to a transaction and if yes, go ahead to predict amount customers will spend per transaction."
   ]
  },
  {
   "cell_type": "markdown",
   "metadata": {},
   "source": [
    "### Data Source\n",
    "Data - Given on Kaggle. Data-size for training = 1,468,195 KB; Data-size for test = 1,315,279 KB; Data format = .csv; \n",
    "\n",
    "There are some json scripts in the dataset"
   ]
  },
  {
   "cell_type": "markdown",
   "metadata": {},
   "source": [
    "### Examining Data Set"
   ]
  },
  {
   "cell_type": "code",
   "execution_count": 1,
   "metadata": {},
   "outputs": [
    {
     "name": "stderr",
     "output_type": "stream",
     "text": [
      "C:\\Users\\install\\Anaconda3\\lib\\site-packages\\IPython\\core\\interactiveshell.py:2785: DtypeWarning: Columns (3) have mixed types. Specify dtype option on import or set low_memory=False.\n",
      "  interactivity=interactivity, compiler=compiler, result=result)\n"
     ]
    }
   ],
   "source": [
    "import pandas as pd\n",
    "\n",
    "import numpy as np\n",
    "\n",
    "\n",
    "df = pd.read_csv(\"../capstone_data/kaggle_data/train.csv\")"
   ]
  },
  {
   "cell_type": "code",
   "execution_count": 2,
   "metadata": {},
   "outputs": [
    {
     "data": {
      "text/html": [
       "<div>\n",
       "<style scoped>\n",
       "    .dataframe tbody tr th:only-of-type {\n",
       "        vertical-align: middle;\n",
       "    }\n",
       "\n",
       "    .dataframe tbody tr th {\n",
       "        vertical-align: top;\n",
       "    }\n",
       "\n",
       "    .dataframe thead th {\n",
       "        text-align: right;\n",
       "    }\n",
       "</style>\n",
       "<table border=\"1\" class=\"dataframe\">\n",
       "  <thead>\n",
       "    <tr style=\"text-align: right;\">\n",
       "      <th></th>\n",
       "      <th>channelGrouping</th>\n",
       "      <th>date</th>\n",
       "      <th>device</th>\n",
       "      <th>fullVisitorId</th>\n",
       "      <th>geoNetwork</th>\n",
       "      <th>sessionId</th>\n",
       "      <th>socialEngagementType</th>\n",
       "      <th>totals</th>\n",
       "      <th>trafficSource</th>\n",
       "      <th>visitId</th>\n",
       "      <th>visitNumber</th>\n",
       "      <th>visitStartTime</th>\n",
       "    </tr>\n",
       "  </thead>\n",
       "  <tbody>\n",
       "    <tr>\n",
       "      <th>0</th>\n",
       "      <td>Organic Search</td>\n",
       "      <td>20160902</td>\n",
       "      <td>{\"browser\": \"Chrome\", \"browserVersion\": \"not a...</td>\n",
       "      <td>1131660440785968503</td>\n",
       "      <td>{\"continent\": \"Asia\", \"subContinent\": \"Western...</td>\n",
       "      <td>1131660440785968503_1472830385</td>\n",
       "      <td>Not Socially Engaged</td>\n",
       "      <td>{\"visits\": \"1\", \"hits\": \"1\", \"pageviews\": \"1\",...</td>\n",
       "      <td>{\"campaign\": \"(not set)\", \"source\": \"google\", ...</td>\n",
       "      <td>1472830385</td>\n",
       "      <td>1</td>\n",
       "      <td>1472830385</td>\n",
       "    </tr>\n",
       "    <tr>\n",
       "      <th>1</th>\n",
       "      <td>Organic Search</td>\n",
       "      <td>20160902</td>\n",
       "      <td>{\"browser\": \"Firefox\", \"browserVersion\": \"not ...</td>\n",
       "      <td>377306020877927890</td>\n",
       "      <td>{\"continent\": \"Oceania\", \"subContinent\": \"Aust...</td>\n",
       "      <td>377306020877927890_1472880147</td>\n",
       "      <td>Not Socially Engaged</td>\n",
       "      <td>{\"visits\": \"1\", \"hits\": \"1\", \"pageviews\": \"1\",...</td>\n",
       "      <td>{\"campaign\": \"(not set)\", \"source\": \"google\", ...</td>\n",
       "      <td>1472880147</td>\n",
       "      <td>1</td>\n",
       "      <td>1472880147</td>\n",
       "    </tr>\n",
       "    <tr>\n",
       "      <th>2</th>\n",
       "      <td>Organic Search</td>\n",
       "      <td>20160902</td>\n",
       "      <td>{\"browser\": \"Chrome\", \"browserVersion\": \"not a...</td>\n",
       "      <td>3895546263509774583</td>\n",
       "      <td>{\"continent\": \"Europe\", \"subContinent\": \"South...</td>\n",
       "      <td>3895546263509774583_1472865386</td>\n",
       "      <td>Not Socially Engaged</td>\n",
       "      <td>{\"visits\": \"1\", \"hits\": \"1\", \"pageviews\": \"1\",...</td>\n",
       "      <td>{\"campaign\": \"(not set)\", \"source\": \"google\", ...</td>\n",
       "      <td>1472865386</td>\n",
       "      <td>1</td>\n",
       "      <td>1472865386</td>\n",
       "    </tr>\n",
       "    <tr>\n",
       "      <th>3</th>\n",
       "      <td>Organic Search</td>\n",
       "      <td>20160902</td>\n",
       "      <td>{\"browser\": \"UC Browser\", \"browserVersion\": \"n...</td>\n",
       "      <td>4763447161404445595</td>\n",
       "      <td>{\"continent\": \"Asia\", \"subContinent\": \"Southea...</td>\n",
       "      <td>4763447161404445595_1472881213</td>\n",
       "      <td>Not Socially Engaged</td>\n",
       "      <td>{\"visits\": \"1\", \"hits\": \"1\", \"pageviews\": \"1\",...</td>\n",
       "      <td>{\"campaign\": \"(not set)\", \"source\": \"google\", ...</td>\n",
       "      <td>1472881213</td>\n",
       "      <td>1</td>\n",
       "      <td>1472881213</td>\n",
       "    </tr>\n",
       "    <tr>\n",
       "      <th>4</th>\n",
       "      <td>Organic Search</td>\n",
       "      <td>20160902</td>\n",
       "      <td>{\"browser\": \"Chrome\", \"browserVersion\": \"not a...</td>\n",
       "      <td>27294437909732085</td>\n",
       "      <td>{\"continent\": \"Europe\", \"subContinent\": \"North...</td>\n",
       "      <td>27294437909732085_1472822600</td>\n",
       "      <td>Not Socially Engaged</td>\n",
       "      <td>{\"visits\": \"1\", \"hits\": \"1\", \"pageviews\": \"1\",...</td>\n",
       "      <td>{\"campaign\": \"(not set)\", \"source\": \"google\", ...</td>\n",
       "      <td>1472822600</td>\n",
       "      <td>2</td>\n",
       "      <td>1472822600</td>\n",
       "    </tr>\n",
       "  </tbody>\n",
       "</table>\n",
       "</div>"
      ],
      "text/plain": [
       "  channelGrouping      date  \\\n",
       "0  Organic Search  20160902   \n",
       "1  Organic Search  20160902   \n",
       "2  Organic Search  20160902   \n",
       "3  Organic Search  20160902   \n",
       "4  Organic Search  20160902   \n",
       "\n",
       "                                              device        fullVisitorId  \\\n",
       "0  {\"browser\": \"Chrome\", \"browserVersion\": \"not a...  1131660440785968503   \n",
       "1  {\"browser\": \"Firefox\", \"browserVersion\": \"not ...   377306020877927890   \n",
       "2  {\"browser\": \"Chrome\", \"browserVersion\": \"not a...  3895546263509774583   \n",
       "3  {\"browser\": \"UC Browser\", \"browserVersion\": \"n...  4763447161404445595   \n",
       "4  {\"browser\": \"Chrome\", \"browserVersion\": \"not a...    27294437909732085   \n",
       "\n",
       "                                          geoNetwork  \\\n",
       "0  {\"continent\": \"Asia\", \"subContinent\": \"Western...   \n",
       "1  {\"continent\": \"Oceania\", \"subContinent\": \"Aust...   \n",
       "2  {\"continent\": \"Europe\", \"subContinent\": \"South...   \n",
       "3  {\"continent\": \"Asia\", \"subContinent\": \"Southea...   \n",
       "4  {\"continent\": \"Europe\", \"subContinent\": \"North...   \n",
       "\n",
       "                        sessionId  socialEngagementType  \\\n",
       "0  1131660440785968503_1472830385  Not Socially Engaged   \n",
       "1   377306020877927890_1472880147  Not Socially Engaged   \n",
       "2  3895546263509774583_1472865386  Not Socially Engaged   \n",
       "3  4763447161404445595_1472881213  Not Socially Engaged   \n",
       "4    27294437909732085_1472822600  Not Socially Engaged   \n",
       "\n",
       "                                              totals  \\\n",
       "0  {\"visits\": \"1\", \"hits\": \"1\", \"pageviews\": \"1\",...   \n",
       "1  {\"visits\": \"1\", \"hits\": \"1\", \"pageviews\": \"1\",...   \n",
       "2  {\"visits\": \"1\", \"hits\": \"1\", \"pageviews\": \"1\",...   \n",
       "3  {\"visits\": \"1\", \"hits\": \"1\", \"pageviews\": \"1\",...   \n",
       "4  {\"visits\": \"1\", \"hits\": \"1\", \"pageviews\": \"1\",...   \n",
       "\n",
       "                                       trafficSource     visitId  visitNumber  \\\n",
       "0  {\"campaign\": \"(not set)\", \"source\": \"google\", ...  1472830385            1   \n",
       "1  {\"campaign\": \"(not set)\", \"source\": \"google\", ...  1472880147            1   \n",
       "2  {\"campaign\": \"(not set)\", \"source\": \"google\", ...  1472865386            1   \n",
       "3  {\"campaign\": \"(not set)\", \"source\": \"google\", ...  1472881213            1   \n",
       "4  {\"campaign\": \"(not set)\", \"source\": \"google\", ...  1472822600            2   \n",
       "\n",
       "   visitStartTime  \n",
       "0      1472830385  \n",
       "1      1472880147  \n",
       "2      1472865386  \n",
       "3      1472881213  \n",
       "4      1472822600  "
      ]
     },
     "execution_count": 2,
     "metadata": {},
     "output_type": "execute_result"
    }
   ],
   "source": [
    "df.head()"
   ]
  },
  {
   "cell_type": "code",
   "execution_count": 3,
   "metadata": {},
   "outputs": [
    {
     "name": "stdout",
     "output_type": "stream",
     "text": [
      "<class 'pandas.core.frame.DataFrame'>\n",
      "RangeIndex: 903653 entries, 0 to 903652\n",
      "Data columns (total 12 columns):\n",
      "channelGrouping         903653 non-null object\n",
      "date                    903653 non-null int64\n",
      "device                  903653 non-null object\n",
      "fullVisitorId           903653 non-null object\n",
      "geoNetwork              903653 non-null object\n",
      "sessionId               903653 non-null object\n",
      "socialEngagementType    903653 non-null object\n",
      "totals                  903653 non-null object\n",
      "trafficSource           903653 non-null object\n",
      "visitId                 903653 non-null int64\n",
      "visitNumber             903653 non-null int64\n",
      "visitStartTime          903653 non-null int64\n",
      "dtypes: int64(4), object(8)\n",
      "memory usage: 82.7+ MB\n"
     ]
    }
   ],
   "source": [
    "df.info()"
   ]
  },
  {
   "cell_type": "markdown",
   "metadata": {},
   "source": [
    "### Exploratory Data Analysis"
   ]
  },
  {
   "cell_type": "markdown",
   "metadata": {},
   "source": [
    "**Dropped Columns** \n",
    "I looked at each column closely and columns that had consistently the same value for each observation or didn't seem to place much relevance or had the same data present in another column were dropped. Such columns include:\n",
    "\n",
    "['browserSize', 'browserVersion', 'flashVersion', 'language', 'mobileDeviceBranding',\n",
    "       'mobileDeviceInfo', 'mobileDeviceMarketingName', 'mobileDeviceModel',\n",
    "       'mobileInputSelector', 'operatingSystemVersion',\n",
    "       'screenColors', 'screenResolution', 'visits','adwordsClickInfo', 'campaignCode','socialEngagementType','networkLocation', 'longitude', 'latitude', 'cityId', 'metro', 'country', 'region', 'subContinent', 'isMobile', 'medium'] "
   ]
  },
  {
   "cell_type": "markdown",
   "metadata": {},
   "source": [
    "Filled all `Nan's` with `-999` for categorical variables and numerical variables with `0`. This was done because I did not want the categorical columns affected much when we get dummies on them turning them to `1s` and `0s`. Also the missing values in the numerical columns example `transactionRevenue` might hold the same relevance as the value 0, because in both cases we might say no transaction or actual sale was made when customer visited the site. We could say that the customer left the site without checking through the merchandise in the store or did not get to the store page."
   ]
  },
  {
   "cell_type": "markdown",
   "metadata": {},
   "source": [
    "For each column that has a json script imbeded, I transform them into a data frame. For example `df['totals']`. Once the column has been turned into a data frame. some more EDA is done by deleting columns that would play any effect on our model either because its the same for all rows or completely empty or has no value.\n",
    "After EDA, this column is added to the main data frame while the previous json column is dropped to avoid any duplicates.\n",
    "The `total` column is illustrated below."
   ]
  },
  {
   "cell_type": "markdown",
   "metadata": {},
   "source": [
    "> Within the totals column is transactionRevenue, our y-label. This is what will be used to train our model and predict transactionRevenue for our kaggle test data."
   ]
  },
  {
   "cell_type": "code",
   "execution_count": 4,
   "metadata": {},
   "outputs": [
    {
     "data": {
      "text/plain": [
       "0    {\"visits\": \"1\", \"hits\": \"1\", \"pageviews\": \"1\",...\n",
       "1    {\"visits\": \"1\", \"hits\": \"1\", \"pageviews\": \"1\",...\n",
       "2    {\"visits\": \"1\", \"hits\": \"1\", \"pageviews\": \"1\",...\n",
       "3    {\"visits\": \"1\", \"hits\": \"1\", \"pageviews\": \"1\",...\n",
       "4    {\"visits\": \"1\", \"hits\": \"1\", \"pageviews\": \"1\",...\n",
       "Name: totals, dtype: object"
      ]
     },
     "execution_count": 4,
     "metadata": {},
     "output_type": "execute_result"
    }
   ],
   "source": [
    "df['totals'].head()"
   ]
  },
  {
   "cell_type": "code",
   "execution_count": 5,
   "metadata": {},
   "outputs": [],
   "source": [
    "import json\n",
    "# This is my y-label for this data set. What I will be predicting."
   ]
  },
  {
   "cell_type": "code",
   "execution_count": 6,
   "metadata": {},
   "outputs": [
    {
     "data": {
      "text/html": [
       "<div>\n",
       "<style scoped>\n",
       "    .dataframe tbody tr th:only-of-type {\n",
       "        vertical-align: middle;\n",
       "    }\n",
       "\n",
       "    .dataframe tbody tr th {\n",
       "        vertical-align: top;\n",
       "    }\n",
       "\n",
       "    .dataframe thead th {\n",
       "        text-align: right;\n",
       "    }\n",
       "</style>\n",
       "<table border=\"1\" class=\"dataframe\">\n",
       "  <thead>\n",
       "    <tr style=\"text-align: right;\">\n",
       "      <th></th>\n",
       "      <th>bounces</th>\n",
       "      <th>hits</th>\n",
       "      <th>newVisits</th>\n",
       "      <th>pageviews</th>\n",
       "      <th>transactionRevenue</th>\n",
       "      <th>visits</th>\n",
       "    </tr>\n",
       "  </thead>\n",
       "  <tbody>\n",
       "    <tr>\n",
       "      <th>0</th>\n",
       "      <td>1</td>\n",
       "      <td>1</td>\n",
       "      <td>1</td>\n",
       "      <td>1</td>\n",
       "      <td>NaN</td>\n",
       "      <td>1</td>\n",
       "    </tr>\n",
       "    <tr>\n",
       "      <th>1</th>\n",
       "      <td>1</td>\n",
       "      <td>1</td>\n",
       "      <td>1</td>\n",
       "      <td>1</td>\n",
       "      <td>NaN</td>\n",
       "      <td>1</td>\n",
       "    </tr>\n",
       "    <tr>\n",
       "      <th>2</th>\n",
       "      <td>1</td>\n",
       "      <td>1</td>\n",
       "      <td>1</td>\n",
       "      <td>1</td>\n",
       "      <td>NaN</td>\n",
       "      <td>1</td>\n",
       "    </tr>\n",
       "    <tr>\n",
       "      <th>3</th>\n",
       "      <td>1</td>\n",
       "      <td>1</td>\n",
       "      <td>1</td>\n",
       "      <td>1</td>\n",
       "      <td>NaN</td>\n",
       "      <td>1</td>\n",
       "    </tr>\n",
       "    <tr>\n",
       "      <th>4</th>\n",
       "      <td>1</td>\n",
       "      <td>1</td>\n",
       "      <td>NaN</td>\n",
       "      <td>1</td>\n",
       "      <td>NaN</td>\n",
       "      <td>1</td>\n",
       "    </tr>\n",
       "  </tbody>\n",
       "</table>\n",
       "</div>"
      ],
      "text/plain": [
       "  bounces hits newVisits pageviews transactionRevenue visits\n",
       "0       1    1         1         1                NaN      1\n",
       "1       1    1         1         1                NaN      1\n",
       "2       1    1         1         1                NaN      1\n",
       "3       1    1         1         1                NaN      1\n",
       "4       1    1       NaN         1                NaN      1"
      ]
     },
     "execution_count": 6,
     "metadata": {},
     "output_type": "execute_result"
    }
   ],
   "source": [
    "totals = pd.DataFrame([json.loads(each) for each in df['totals']])\n",
    "totals.head()"
   ]
  },
  {
   "cell_type": "code",
   "execution_count": 7,
   "metadata": {},
   "outputs": [
    {
     "name": "stdout",
     "output_type": "stream",
     "text": [
      "<class 'pandas.core.frame.DataFrame'>\n",
      "RangeIndex: 903653 entries, 0 to 903652\n",
      "Data columns (total 6 columns):\n",
      "bounces               450630 non-null object\n",
      "hits                  903653 non-null object\n",
      "newVisits             703060 non-null object\n",
      "pageviews             903553 non-null object\n",
      "transactionRevenue    11515 non-null object\n",
      "visits                903653 non-null object\n",
      "dtypes: object(6)\n",
      "memory usage: 41.4+ MB\n"
     ]
    },
    {
     "data": {
      "text/html": [
       "<div>\n",
       "<style scoped>\n",
       "    .dataframe tbody tr th:only-of-type {\n",
       "        vertical-align: middle;\n",
       "    }\n",
       "\n",
       "    .dataframe tbody tr th {\n",
       "        vertical-align: top;\n",
       "    }\n",
       "\n",
       "    .dataframe thead th {\n",
       "        text-align: right;\n",
       "    }\n",
       "</style>\n",
       "<table border=\"1\" class=\"dataframe\">\n",
       "  <thead>\n",
       "    <tr style=\"text-align: right;\">\n",
       "      <th></th>\n",
       "      <th>bounces</th>\n",
       "      <th>hits</th>\n",
       "      <th>newVisits</th>\n",
       "      <th>pageviews</th>\n",
       "      <th>transactionRevenue</th>\n",
       "      <th>visits</th>\n",
       "    </tr>\n",
       "  </thead>\n",
       "  <tbody>\n",
       "    <tr>\n",
       "      <th>count</th>\n",
       "      <td>450630</td>\n",
       "      <td>903653</td>\n",
       "      <td>703060</td>\n",
       "      <td>903553</td>\n",
       "      <td>11515</td>\n",
       "      <td>903653</td>\n",
       "    </tr>\n",
       "    <tr>\n",
       "      <th>unique</th>\n",
       "      <td>1</td>\n",
       "      <td>274</td>\n",
       "      <td>1</td>\n",
       "      <td>213</td>\n",
       "      <td>5332</td>\n",
       "      <td>1</td>\n",
       "    </tr>\n",
       "    <tr>\n",
       "      <th>top</th>\n",
       "      <td>1</td>\n",
       "      <td>1</td>\n",
       "      <td>1</td>\n",
       "      <td>1</td>\n",
       "      <td>16990000</td>\n",
       "      <td>1</td>\n",
       "    </tr>\n",
       "    <tr>\n",
       "      <th>freq</th>\n",
       "      <td>450630</td>\n",
       "      <td>446754</td>\n",
       "      <td>703060</td>\n",
       "      <td>452522</td>\n",
       "      <td>256</td>\n",
       "      <td>903653</td>\n",
       "    </tr>\n",
       "  </tbody>\n",
       "</table>\n",
       "</div>"
      ],
      "text/plain": [
       "       bounces    hits newVisits pageviews transactionRevenue  visits\n",
       "count   450630  903653    703060    903553              11515  903653\n",
       "unique       1     274         1       213               5332       1\n",
       "top          1       1         1         1           16990000       1\n",
       "freq    450630  446754    703060    452522                256  903653"
      ]
     },
     "execution_count": 7,
     "metadata": {},
     "output_type": "execute_result"
    }
   ],
   "source": [
    "totals.info()\n",
    "\n",
    "# They are all numerical values.\n",
    "totals.describe()"
   ]
  },
  {
   "cell_type": "markdown",
   "metadata": {},
   "source": [
    "The least amount spent are shown below starting with `$0.01`"
   ]
  },
  {
   "cell_type": "code",
   "execution_count": 8,
   "metadata": {},
   "outputs": [
    {
     "data": {
      "text/plain": [
       "468262    0.01\n",
       "181497    0.04\n",
       "396053    0.09\n",
       "762377    0.16\n",
       "181509    0.20\n",
       "Name: transactionRevenue, dtype: float64"
      ]
     },
     "execution_count": 8,
     "metadata": {},
     "output_type": "execute_result"
    }
   ],
   "source": [
    "min_total_transactionRevenue = totals[totals['transactionRevenue'].notnull()]['transactionRevenue'].map(lambda x: int(x)/1000000).sort_values()\n",
    "min_total_transactionRevenue.head()"
   ]
  },
  {
   "cell_type": "code",
   "execution_count": 9,
   "metadata": {},
   "outputs": [],
   "source": [
    "totals.isnull().sum()\n",
    "\n",
    "# Fill all Nan's in total df with seems it seems no value was 0\n",
    "totals = totals.fillna(0)"
   ]
  },
  {
   "cell_type": "code",
   "execution_count": 10,
   "metadata": {},
   "outputs": [
    {
     "data": {
      "text/plain": [
       "Index(['bounces', 'hits', 'newVisits', 'pageviews', 'transactionRevenue',\n",
       "       'visits'],\n",
       "      dtype='object')"
      ]
     },
     "execution_count": 10,
     "metadata": {},
     "output_type": "execute_result"
    }
   ],
   "source": [
    "totals.columns"
   ]
  },
  {
   "cell_type": "code",
   "execution_count": 11,
   "metadata": {},
   "outputs": [],
   "source": [
    "# As shown above, all the totals column are object type. Casting them to int since their values are numbers. \n",
    "totals['bounces'] = totals.bounces.astype('int')\n",
    "totals['hits'] = totals['hits'].astype('int')\n",
    "totals['newVisits'] = totals['newVisits'].astype('int')\n",
    "totals['pageviews'] = totals['pageviews'].astype('int')"
   ]
  },
  {
   "cell_type": "markdown",
   "metadata": {},
   "source": [
    "The `visits` column was dropped because it contained the same value  of `1` for every observation which will have no effect on our model"
   ]
  },
  {
   "cell_type": "code",
   "execution_count": 12,
   "metadata": {},
   "outputs": [],
   "source": [
    "totals = totals.drop('visits', axis=1)"
   ]
  },
  {
   "cell_type": "code",
   "execution_count": 13,
   "metadata": {},
   "outputs": [
    {
     "data": {
      "text/plain": [
       "(903653,)"
      ]
     },
     "execution_count": 13,
     "metadata": {},
     "output_type": "execute_result"
    }
   ],
   "source": [
    "totals['transactionRevenue'].shape"
   ]
  },
  {
   "cell_type": "markdown",
   "metadata": {},
   "source": [
    "From `info()` we now we have 903653 observations (rows) in our data set. `Describe()` method informs us that only `11515` of that actually is not null in the `transactionRevenue` column. Of these values, the non-zero values are rounded to the 1,000,000 unit, hence, we have to divide by 1,000,000 to get our values to 1unit values that we can relate with adequately. Dividing the transactionRevenue column by number transforms the column from and object to a number stored as float."
   ]
  },
  {
   "cell_type": "code",
   "execution_count": 14,
   "metadata": {},
   "outputs": [
    {
     "data": {
      "text/plain": [
       "0    0.0\n",
       "1    0.0\n",
       "2    0.0\n",
       "3    0.0\n",
       "4    0.0\n",
       "Name: transactionRevenue, dtype: float64"
      ]
     },
     "execution_count": 14,
     "metadata": {},
     "output_type": "execute_result"
    }
   ],
   "source": [
    "totals['transactionRevenue'] = totals['transactionRevenue'].map(lambda x: float(x)/1000000)\n",
    "totals[\"transactionRevenue\"].head()"
   ]
  },
  {
   "cell_type": "markdown",
   "metadata": {},
   "source": [
    "**The maximum amount spent is `$23,129.50`**"
   ]
  },
  {
   "cell_type": "code",
   "execution_count": 15,
   "metadata": {},
   "outputs": [
    {
     "data": {
      "text/plain": [
       "375253    23129.50\n",
       "430822    17855.50\n",
       "380988    16023.75\n",
       "773715    10589.14\n",
       "891576     8677.83\n",
       "Name: transactionRevenue, dtype: float64"
      ]
     },
     "execution_count": 15,
     "metadata": {},
     "output_type": "execute_result"
    }
   ],
   "source": [
    "max_total_transactionRevenue = totals['transactionRevenue'].sort_values(ascending=False)\n",
    "max_total_transactionRevenue.head()"
   ]
  },
  {
   "cell_type": "code",
   "execution_count": 16,
   "metadata": {},
   "outputs": [
    {
     "data": {
      "text/html": [
       "<div>\n",
       "<style scoped>\n",
       "    .dataframe tbody tr th:only-of-type {\n",
       "        vertical-align: middle;\n",
       "    }\n",
       "\n",
       "    .dataframe tbody tr th {\n",
       "        vertical-align: top;\n",
       "    }\n",
       "\n",
       "    .dataframe thead th {\n",
       "        text-align: right;\n",
       "    }\n",
       "</style>\n",
       "<table border=\"1\" class=\"dataframe\">\n",
       "  <thead>\n",
       "    <tr style=\"text-align: right;\">\n",
       "      <th></th>\n",
       "      <th>bounces</th>\n",
       "      <th>hits</th>\n",
       "      <th>newVisits</th>\n",
       "      <th>pageviews</th>\n",
       "      <th>transactionRevenue</th>\n",
       "    </tr>\n",
       "  </thead>\n",
       "  <tbody>\n",
       "    <tr>\n",
       "      <th>0</th>\n",
       "      <td>1</td>\n",
       "      <td>1</td>\n",
       "      <td>1</td>\n",
       "      <td>1</td>\n",
       "      <td>0.0</td>\n",
       "    </tr>\n",
       "    <tr>\n",
       "      <th>1</th>\n",
       "      <td>1</td>\n",
       "      <td>1</td>\n",
       "      <td>1</td>\n",
       "      <td>1</td>\n",
       "      <td>0.0</td>\n",
       "    </tr>\n",
       "    <tr>\n",
       "      <th>2</th>\n",
       "      <td>1</td>\n",
       "      <td>1</td>\n",
       "      <td>1</td>\n",
       "      <td>1</td>\n",
       "      <td>0.0</td>\n",
       "    </tr>\n",
       "    <tr>\n",
       "      <th>3</th>\n",
       "      <td>1</td>\n",
       "      <td>1</td>\n",
       "      <td>1</td>\n",
       "      <td>1</td>\n",
       "      <td>0.0</td>\n",
       "    </tr>\n",
       "    <tr>\n",
       "      <th>4</th>\n",
       "      <td>1</td>\n",
       "      <td>1</td>\n",
       "      <td>0</td>\n",
       "      <td>1</td>\n",
       "      <td>0.0</td>\n",
       "    </tr>\n",
       "  </tbody>\n",
       "</table>\n",
       "</div>"
      ],
      "text/plain": [
       "   bounces  hits  newVisits  pageviews  transactionRevenue\n",
       "0        1     1          1          1                 0.0\n",
       "1        1     1          1          1                 0.0\n",
       "2        1     1          1          1                 0.0\n",
       "3        1     1          1          1                 0.0\n",
       "4        1     1          0          1                 0.0"
      ]
     },
     "execution_count": 16,
     "metadata": {},
     "output_type": "execute_result"
    }
   ],
   "source": [
    "totals.head()"
   ]
  },
  {
   "cell_type": "markdown",
   "metadata": {},
   "source": [
    "Since the totals data frame contains our predicted label, a simple model was performed with it to see what base model we could have and need to improve from. We also did a correlation on our totals data frame to see what best influences our y-label."
   ]
  },
  {
   "cell_type": "code",
   "execution_count": 17,
   "metadata": {},
   "outputs": [
    {
     "data": {
      "text/html": [
       "<div>\n",
       "<style scoped>\n",
       "    .dataframe tbody tr th:only-of-type {\n",
       "        vertical-align: middle;\n",
       "    }\n",
       "\n",
       "    .dataframe tbody tr th {\n",
       "        vertical-align: top;\n",
       "    }\n",
       "\n",
       "    .dataframe thead th {\n",
       "        text-align: right;\n",
       "    }\n",
       "</style>\n",
       "<table border=\"1\" class=\"dataframe\">\n",
       "  <thead>\n",
       "    <tr style=\"text-align: right;\">\n",
       "      <th></th>\n",
       "      <th>bounces</th>\n",
       "      <th>hits</th>\n",
       "      <th>newVisits</th>\n",
       "      <th>pageviews</th>\n",
       "      <th>transactionRevenue</th>\n",
       "    </tr>\n",
       "  </thead>\n",
       "  <tbody>\n",
       "    <tr>\n",
       "      <th>bounces</th>\n",
       "      <td>1.000000</td>\n",
       "      <td>-0.371136</td>\n",
       "      <td>0.078841</td>\n",
       "      <td>-0.404527</td>\n",
       "      <td>-0.032206</td>\n",
       "    </tr>\n",
       "    <tr>\n",
       "      <th>hits</th>\n",
       "      <td>-0.371136</td>\n",
       "      <td>1.000000</td>\n",
       "      <td>-0.115202</td>\n",
       "      <td>0.983201</td>\n",
       "      <td>0.154333</td>\n",
       "    </tr>\n",
       "    <tr>\n",
       "      <th>newVisits</th>\n",
       "      <td>0.078841</td>\n",
       "      <td>-0.115202</td>\n",
       "      <td>1.000000</td>\n",
       "      <td>-0.117150</td>\n",
       "      <td>-0.041164</td>\n",
       "    </tr>\n",
       "    <tr>\n",
       "      <th>pageviews</th>\n",
       "      <td>-0.404527</td>\n",
       "      <td>0.983201</td>\n",
       "      <td>-0.117150</td>\n",
       "      <td>1.000000</td>\n",
       "      <td>0.155589</td>\n",
       "    </tr>\n",
       "    <tr>\n",
       "      <th>transactionRevenue</th>\n",
       "      <td>-0.032206</td>\n",
       "      <td>0.154333</td>\n",
       "      <td>-0.041164</td>\n",
       "      <td>0.155589</td>\n",
       "      <td>1.000000</td>\n",
       "    </tr>\n",
       "  </tbody>\n",
       "</table>\n",
       "</div>"
      ],
      "text/plain": [
       "                     bounces      hits  newVisits  pageviews  \\\n",
       "bounces             1.000000 -0.371136   0.078841  -0.404527   \n",
       "hits               -0.371136  1.000000  -0.115202   0.983201   \n",
       "newVisits           0.078841 -0.115202   1.000000  -0.117150   \n",
       "pageviews          -0.404527  0.983201  -0.117150   1.000000   \n",
       "transactionRevenue -0.032206  0.154333  -0.041164   0.155589   \n",
       "\n",
       "                    transactionRevenue  \n",
       "bounces                      -0.032206  \n",
       "hits                          0.154333  \n",
       "newVisits                    -0.041164  \n",
       "pageviews                     0.155589  \n",
       "transactionRevenue            1.000000  "
      ]
     },
     "execution_count": 17,
     "metadata": {},
     "output_type": "execute_result"
    }
   ],
   "source": [
    "totals.corr()"
   ]
  },
  {
   "cell_type": "code",
   "execution_count": 20,
   "metadata": {},
   "outputs": [],
   "source": [
    "import matplotlib\n",
    "import matplotlib.pyplot as plt\n",
    "import seaborn as sns"
   ]
  },
  {
   "cell_type": "code",
   "execution_count": 21,
   "metadata": {},
   "outputs": [
    {
     "data": {
      "text/plain": [
       "<matplotlib.axes._subplots.AxesSubplot at 0x2c005d9e940>"
      ]
     },
     "execution_count": 21,
     "metadata": {},
     "output_type": "execute_result"
    },
    {
     "data": {
      "image/png": "[encoded data removed]",
      "text/plain": [
       "<Figure size 864x432 with 2 Axes>"
      ]
     },
     "metadata": {},
     "output_type": "display_data"
    }
   ],
   "source": [
    "plt.figure(figsize=(12,6))\n",
    "sns.heatmap(totals.corr(), vmin=-1, vmax=1, annot=True)"
   ]
  },
  {
   "cell_type": "markdown",
   "metadata": {},
   "source": [
    ">From the correlation heatmap, we see that transactionRevenue has a strong correlation with hits and pageviews, howerver, pageviews has a much stronger correlation with hits."
   ]
  },
  {
   "cell_type": "markdown",
   "metadata": {},
   "source": [
    "**A simple Linear Regression model**"
   ]
  },
  {
   "cell_type": "code",
   "execution_count": 112,
   "metadata": {},
   "outputs": [
    {
     "data": {
      "text/plain": [
       "(0.025320631161857787, 0.027986778883331453)"
      ]
     },
     "execution_count": 112,
     "metadata": {},
     "output_type": "execute_result"
    }
   ],
   "source": [
    "lr.score(X_train, y_train), lr.score(X_test, y_test)"
   ]
  },
  {
   "cell_type": "markdown",
   "metadata": {},
   "source": [
    "Based on the perfomance of our model, we see that while there is underfitting going on, but not too much, however, our score shows that we have quite a bit of room to improve on. "
   ]
  },
  {
   "cell_type": "markdown",
   "metadata": {},
   "source": [
    "Performing a quick RMSE metric, will show us how well our model is doing. "
   ]
  },
  {
   "cell_type": "code",
   "execution_count": 114,
   "metadata": {},
   "outputs": [
    {
     "name": "stdout",
     "output_type": "stream",
     "text": [
      "52.933224339226555\n",
      "49.474343978373\n"
     ]
    }
   ],
   "source": [
    "from sklearn.metrics import mean_squared_error\n",
    "\n",
    "print(mean_squared_error(y_train, lr.predict(X_train)) ** 0.5)\n",
    "print (mean_squared_error(y_test, lr.predict(X_test)) ** 0.5)  "
   ]
  },
  {
   "cell_type": "markdown",
   "metadata": {},
   "source": [
    "**This large value so far away from zero shows that our model has a long way to improve on.**"
   ]
  },
  {
   "cell_type": "markdown",
   "metadata": {},
   "source": [
    "Now we add our totals back to our data frame."
   ]
  },
  {
   "cell_type": "code",
   "execution_count": 18,
   "metadata": {},
   "outputs": [
    {
     "data": {
      "text/html": [
       "<div>\n",
       "<style scoped>\n",
       "    .dataframe tbody tr th:only-of-type {\n",
       "        vertical-align: middle;\n",
       "    }\n",
       "\n",
       "    .dataframe tbody tr th {\n",
       "        vertical-align: top;\n",
       "    }\n",
       "\n",
       "    .dataframe thead th {\n",
       "        text-align: right;\n",
       "    }\n",
       "</style>\n",
       "<table border=\"1\" class=\"dataframe\">\n",
       "  <thead>\n",
       "    <tr style=\"text-align: right;\">\n",
       "      <th></th>\n",
       "      <th>channelGrouping</th>\n",
       "      <th>date</th>\n",
       "      <th>device</th>\n",
       "      <th>fullVisitorId</th>\n",
       "      <th>geoNetwork</th>\n",
       "      <th>sessionId</th>\n",
       "      <th>socialEngagementType</th>\n",
       "      <th>trafficSource</th>\n",
       "      <th>visitId</th>\n",
       "      <th>visitNumber</th>\n",
       "      <th>visitStartTime</th>\n",
       "      <th>bounces</th>\n",
       "      <th>hits</th>\n",
       "      <th>newVisits</th>\n",
       "      <th>pageviews</th>\n",
       "      <th>transactionRevenue</th>\n",
       "    </tr>\n",
       "  </thead>\n",
       "  <tbody>\n",
       "    <tr>\n",
       "      <th>0</th>\n",
       "      <td>Organic Search</td>\n",
       "      <td>20160902</td>\n",
       "      <td>{\"browser\": \"Chrome\", \"browserVersion\": \"not a...</td>\n",
       "      <td>1131660440785968503</td>\n",
       "      <td>{\"continent\": \"Asia\", \"subContinent\": \"Western...</td>\n",
       "      <td>1131660440785968503_1472830385</td>\n",
       "      <td>Not Socially Engaged</td>\n",
       "      <td>{\"campaign\": \"(not set)\", \"source\": \"google\", ...</td>\n",
       "      <td>1472830385</td>\n",
       "      <td>1</td>\n",
       "      <td>1472830385</td>\n",
       "      <td>1</td>\n",
       "      <td>1</td>\n",
       "      <td>1</td>\n",
       "      <td>1</td>\n",
       "      <td>0.0</td>\n",
       "    </tr>\n",
       "    <tr>\n",
       "      <th>1</th>\n",
       "      <td>Organic Search</td>\n",
       "      <td>20160902</td>\n",
       "      <td>{\"browser\": \"Firefox\", \"browserVersion\": \"not ...</td>\n",
       "      <td>377306020877927890</td>\n",
       "      <td>{\"continent\": \"Oceania\", \"subContinent\": \"Aust...</td>\n",
       "      <td>377306020877927890_1472880147</td>\n",
       "      <td>Not Socially Engaged</td>\n",
       "      <td>{\"campaign\": \"(not set)\", \"source\": \"google\", ...</td>\n",
       "      <td>1472880147</td>\n",
       "      <td>1</td>\n",
       "      <td>1472880147</td>\n",
       "      <td>1</td>\n",
       "      <td>1</td>\n",
       "      <td>1</td>\n",
       "      <td>1</td>\n",
       "      <td>0.0</td>\n",
       "    </tr>\n",
       "    <tr>\n",
       "      <th>2</th>\n",
       "      <td>Organic Search</td>\n",
       "      <td>20160902</td>\n",
       "      <td>{\"browser\": \"Chrome\", \"browserVersion\": \"not a...</td>\n",
       "      <td>3895546263509774583</td>\n",
       "      <td>{\"continent\": \"Europe\", \"subContinent\": \"South...</td>\n",
       "      <td>3895546263509774583_1472865386</td>\n",
       "      <td>Not Socially Engaged</td>\n",
       "      <td>{\"campaign\": \"(not set)\", \"source\": \"google\", ...</td>\n",
       "      <td>1472865386</td>\n",
       "      <td>1</td>\n",
       "      <td>1472865386</td>\n",
       "      <td>1</td>\n",
       "      <td>1</td>\n",
       "      <td>1</td>\n",
       "      <td>1</td>\n",
       "      <td>0.0</td>\n",
       "    </tr>\n",
       "    <tr>\n",
       "      <th>3</th>\n",
       "      <td>Organic Search</td>\n",
       "      <td>20160902</td>\n",
       "      <td>{\"browser\": \"UC Browser\", \"browserVersion\": \"n...</td>\n",
       "      <td>4763447161404445595</td>\n",
       "      <td>{\"continent\": \"Asia\", \"subContinent\": \"Southea...</td>\n",
       "      <td>4763447161404445595_1472881213</td>\n",
       "      <td>Not Socially Engaged</td>\n",
       "      <td>{\"campaign\": \"(not set)\", \"source\": \"google\", ...</td>\n",
       "      <td>1472881213</td>\n",
       "      <td>1</td>\n",
       "      <td>1472881213</td>\n",
       "      <td>1</td>\n",
       "      <td>1</td>\n",
       "      <td>1</td>\n",
       "      <td>1</td>\n",
       "      <td>0.0</td>\n",
       "    </tr>\n",
       "    <tr>\n",
       "      <th>4</th>\n",
       "      <td>Organic Search</td>\n",
       "      <td>20160902</td>\n",
       "      <td>{\"browser\": \"Chrome\", \"browserVersion\": \"not a...</td>\n",
       "      <td>27294437909732085</td>\n",
       "      <td>{\"continent\": \"Europe\", \"subContinent\": \"North...</td>\n",
       "      <td>27294437909732085_1472822600</td>\n",
       "      <td>Not Socially Engaged</td>\n",
       "      <td>{\"campaign\": \"(not set)\", \"source\": \"google\", ...</td>\n",
       "      <td>1472822600</td>\n",
       "      <td>2</td>\n",
       "      <td>1472822600</td>\n",
       "      <td>1</td>\n",
       "      <td>1</td>\n",
       "      <td>0</td>\n",
       "      <td>1</td>\n",
       "      <td>0.0</td>\n",
       "    </tr>\n",
       "  </tbody>\n",
       "</table>\n",
       "</div>"
      ],
      "text/plain": [
       "  channelGrouping      date  \\\n",
       "0  Organic Search  20160902   \n",
       "1  Organic Search  20160902   \n",
       "2  Organic Search  20160902   \n",
       "3  Organic Search  20160902   \n",
       "4  Organic Search  20160902   \n",
       "\n",
       "                                              device        fullVisitorId  \\\n",
       "0  {\"browser\": \"Chrome\", \"browserVersion\": \"not a...  1131660440785968503   \n",
       "1  {\"browser\": \"Firefox\", \"browserVersion\": \"not ...   377306020877927890   \n",
       "2  {\"browser\": \"Chrome\", \"browserVersion\": \"not a...  3895546263509774583   \n",
       "3  {\"browser\": \"UC Browser\", \"browserVersion\": \"n...  4763447161404445595   \n",
       "4  {\"browser\": \"Chrome\", \"browserVersion\": \"not a...    27294437909732085   \n",
       "\n",
       "                                          geoNetwork  \\\n",
       "0  {\"continent\": \"Asia\", \"subContinent\": \"Western...   \n",
       "1  {\"continent\": \"Oceania\", \"subContinent\": \"Aust...   \n",
       "2  {\"continent\": \"Europe\", \"subContinent\": \"South...   \n",
       "3  {\"continent\": \"Asia\", \"subContinent\": \"Southea...   \n",
       "4  {\"continent\": \"Europe\", \"subContinent\": \"North...   \n",
       "\n",
       "                        sessionId  socialEngagementType  \\\n",
       "0  1131660440785968503_1472830385  Not Socially Engaged   \n",
       "1   377306020877927890_1472880147  Not Socially Engaged   \n",
       "2  3895546263509774583_1472865386  Not Socially Engaged   \n",
       "3  4763447161404445595_1472881213  Not Socially Engaged   \n",
       "4    27294437909732085_1472822600  Not Socially Engaged   \n",
       "\n",
       "                                       trafficSource     visitId  visitNumber  \\\n",
       "0  {\"campaign\": \"(not set)\", \"source\": \"google\", ...  1472830385            1   \n",
       "1  {\"campaign\": \"(not set)\", \"source\": \"google\", ...  1472880147            1   \n",
       "2  {\"campaign\": \"(not set)\", \"source\": \"google\", ...  1472865386            1   \n",
       "3  {\"campaign\": \"(not set)\", \"source\": \"google\", ...  1472881213            1   \n",
       "4  {\"campaign\": \"(not set)\", \"source\": \"google\", ...  1472822600            2   \n",
       "\n",
       "   visitStartTime  bounces  hits  newVisits  pageviews  transactionRevenue  \n",
       "0      1472830385        1     1          1          1                 0.0  \n",
       "1      1472880147        1     1          1          1                 0.0  \n",
       "2      1472865386        1     1          1          1                 0.0  \n",
       "3      1472881213        1     1          1          1                 0.0  \n",
       "4      1472822600        1     1          0          1                 0.0  "
      ]
     },
     "execution_count": 18,
     "metadata": {},
     "output_type": "execute_result"
    }
   ],
   "source": [
    "# The new totals data frame is being appended to the main data frame after EDA while the old json totals column is dropped.\n",
    "df = pd.concat([df, totals], axis=1).drop('totals', axis=1)\n",
    "\n",
    "df.head()"
   ]
  },
  {
   "cell_type": "markdown",
   "metadata": {},
   "source": [
    "After extensive EDA on all columns in the main data frame was saved as a csv file and then used in another notebook for modeling. "
   ]
  },
  {
   "cell_type": "code",
   "execution_count": 45,
   "metadata": {},
   "outputs": [],
   "source": [
    "# Reading in the new data frame.\n",
    "df = pd.read_csv(\"../capstone_data/kaggle_data/df_combined_tables.csv\")"
   ]
  },
  {
   "cell_type": "code",
   "execution_count": 46,
   "metadata": {},
   "outputs": [
    {
     "data": {
      "text/html": [
       "<div>\n",
       "<style scoped>\n",
       "    .dataframe tbody tr th:only-of-type {\n",
       "        vertical-align: middle;\n",
       "    }\n",
       "\n",
       "    .dataframe tbody tr th {\n",
       "        vertical-align: top;\n",
       "    }\n",
       "\n",
       "    .dataframe thead th {\n",
       "        text-align: right;\n",
       "    }\n",
       "</style>\n",
       "<table border=\"1\" class=\"dataframe\">\n",
       "  <thead>\n",
       "    <tr style=\"text-align: right;\">\n",
       "      <th></th>\n",
       "      <th>channelGrouping</th>\n",
       "      <th>date</th>\n",
       "      <th>fullVisitorId</th>\n",
       "      <th>sessionId</th>\n",
       "      <th>visitId</th>\n",
       "      <th>visitNumber</th>\n",
       "      <th>visitStartTime</th>\n",
       "      <th>browser</th>\n",
       "      <th>deviceCategory</th>\n",
       "      <th>operatingSystem</th>\n",
       "      <th>...</th>\n",
       "      <th>campaign</th>\n",
       "      <th>isTrueDirect</th>\n",
       "      <th>keyword</th>\n",
       "      <th>referralPath</th>\n",
       "      <th>source</th>\n",
       "      <th>bounces</th>\n",
       "      <th>hits</th>\n",
       "      <th>newVisits</th>\n",
       "      <th>pageviews</th>\n",
       "      <th>transactionRevenue</th>\n",
       "    </tr>\n",
       "  </thead>\n",
       "  <tbody>\n",
       "    <tr>\n",
       "      <th>0</th>\n",
       "      <td>Organic Search</td>\n",
       "      <td>1970-01-01 00:00:00.020160902</td>\n",
       "      <td>1.131660e+18</td>\n",
       "      <td>1.131660e+28</td>\n",
       "      <td>1472830385</td>\n",
       "      <td>1</td>\n",
       "      <td>1472830385</td>\n",
       "      <td>Chrome</td>\n",
       "      <td>desktop</td>\n",
       "      <td>Windows</td>\n",
       "      <td>...</td>\n",
       "      <td>(not set)</td>\n",
       "      <td>-999</td>\n",
       "      <td>(not provided)</td>\n",
       "      <td>-999</td>\n",
       "      <td>google</td>\n",
       "      <td>1</td>\n",
       "      <td>1</td>\n",
       "      <td>1</td>\n",
       "      <td>1</td>\n",
       "      <td>0.0</td>\n",
       "    </tr>\n",
       "    <tr>\n",
       "      <th>1</th>\n",
       "      <td>Organic Search</td>\n",
       "      <td>1970-01-01 00:00:00.020160902</td>\n",
       "      <td>3.773060e+17</td>\n",
       "      <td>3.773060e+27</td>\n",
       "      <td>1472880147</td>\n",
       "      <td>1</td>\n",
       "      <td>1472880147</td>\n",
       "      <td>Firefox</td>\n",
       "      <td>desktop</td>\n",
       "      <td>Macintosh</td>\n",
       "      <td>...</td>\n",
       "      <td>(not set)</td>\n",
       "      <td>-999</td>\n",
       "      <td>(not provided)</td>\n",
       "      <td>-999</td>\n",
       "      <td>google</td>\n",
       "      <td>1</td>\n",
       "      <td>1</td>\n",
       "      <td>1</td>\n",
       "      <td>1</td>\n",
       "      <td>0.0</td>\n",
       "    </tr>\n",
       "    <tr>\n",
       "      <th>2</th>\n",
       "      <td>Organic Search</td>\n",
       "      <td>1970-01-01 00:00:00.020160902</td>\n",
       "      <td>3.895546e+18</td>\n",
       "      <td>3.895546e+28</td>\n",
       "      <td>1472865386</td>\n",
       "      <td>1</td>\n",
       "      <td>1472865386</td>\n",
       "      <td>Chrome</td>\n",
       "      <td>desktop</td>\n",
       "      <td>Windows</td>\n",
       "      <td>...</td>\n",
       "      <td>(not set)</td>\n",
       "      <td>-999</td>\n",
       "      <td>(not provided)</td>\n",
       "      <td>-999</td>\n",
       "      <td>google</td>\n",
       "      <td>1</td>\n",
       "      <td>1</td>\n",
       "      <td>1</td>\n",
       "      <td>1</td>\n",
       "      <td>0.0</td>\n",
       "    </tr>\n",
       "    <tr>\n",
       "      <th>3</th>\n",
       "      <td>Organic Search</td>\n",
       "      <td>1970-01-01 00:00:00.020160902</td>\n",
       "      <td>4.763447e+18</td>\n",
       "      <td>4.763447e+28</td>\n",
       "      <td>1472881213</td>\n",
       "      <td>1</td>\n",
       "      <td>1472881213</td>\n",
       "      <td>UC Browser</td>\n",
       "      <td>desktop</td>\n",
       "      <td>Linux</td>\n",
       "      <td>...</td>\n",
       "      <td>(not set)</td>\n",
       "      <td>-999</td>\n",
       "      <td>google + online</td>\n",
       "      <td>-999</td>\n",
       "      <td>google</td>\n",
       "      <td>1</td>\n",
       "      <td>1</td>\n",
       "      <td>1</td>\n",
       "      <td>1</td>\n",
       "      <td>0.0</td>\n",
       "    </tr>\n",
       "    <tr>\n",
       "      <th>4</th>\n",
       "      <td>Organic Search</td>\n",
       "      <td>1970-01-01 00:00:00.020160902</td>\n",
       "      <td>2.729444e+16</td>\n",
       "      <td>2.729444e+26</td>\n",
       "      <td>1472822600</td>\n",
       "      <td>2</td>\n",
       "      <td>1472822600</td>\n",
       "      <td>Chrome</td>\n",
       "      <td>mobile</td>\n",
       "      <td>Android</td>\n",
       "      <td>...</td>\n",
       "      <td>(not set)</td>\n",
       "      <td>True</td>\n",
       "      <td>(not provided)</td>\n",
       "      <td>-999</td>\n",
       "      <td>google</td>\n",
       "      <td>1</td>\n",
       "      <td>1</td>\n",
       "      <td>0</td>\n",
       "      <td>1</td>\n",
       "      <td>0.0</td>\n",
       "    </tr>\n",
       "  </tbody>\n",
       "</table>\n",
       "<p>5 rows × 24 columns</p>\n",
       "</div>"
      ],
      "text/plain": [
       "  channelGrouping                           date  fullVisitorId     sessionId  \\\n",
       "0  Organic Search  1970-01-01 00:00:00.020160902   1.131660e+18  1.131660e+28   \n",
       "1  Organic Search  1970-01-01 00:00:00.020160902   3.773060e+17  3.773060e+27   \n",
       "2  Organic Search  1970-01-01 00:00:00.020160902   3.895546e+18  3.895546e+28   \n",
       "3  Organic Search  1970-01-01 00:00:00.020160902   4.763447e+18  4.763447e+28   \n",
       "4  Organic Search  1970-01-01 00:00:00.020160902   2.729444e+16  2.729444e+26   \n",
       "\n",
       "      visitId  visitNumber  visitStartTime     browser deviceCategory  \\\n",
       "0  1472830385            1      1472830385      Chrome        desktop   \n",
       "1  1472880147            1      1472880147     Firefox        desktop   \n",
       "2  1472865386            1      1472865386      Chrome        desktop   \n",
       "3  1472881213            1      1472881213  UC Browser        desktop   \n",
       "4  1472822600            2      1472822600      Chrome         mobile   \n",
       "\n",
       "  operatingSystem         ...           campaign isTrueDirect  \\\n",
       "0         Windows         ...          (not set)         -999   \n",
       "1       Macintosh         ...          (not set)         -999   \n",
       "2         Windows         ...          (not set)         -999   \n",
       "3           Linux         ...          (not set)         -999   \n",
       "4         Android         ...          (not set)         True   \n",
       "\n",
       "           keyword referralPath  source bounces hits newVisits pageviews  \\\n",
       "0   (not provided)         -999  google       1    1         1         1   \n",
       "1   (not provided)         -999  google       1    1         1         1   \n",
       "2   (not provided)         -999  google       1    1         1         1   \n",
       "3  google + online         -999  google       1    1         1         1   \n",
       "4   (not provided)         -999  google       1    1         0         1   \n",
       "\n",
       "   transactionRevenue  \n",
       "0                 0.0  \n",
       "1                 0.0  \n",
       "2                 0.0  \n",
       "3                 0.0  \n",
       "4                 0.0  \n",
       "\n",
       "[5 rows x 24 columns]"
      ]
     },
     "execution_count": 46,
     "metadata": {},
     "output_type": "execute_result"
    }
   ],
   "source": [
    "df.head()"
   ]
  },
  {
   "cell_type": "markdown",
   "metadata": {},
   "source": [
    "At this point all json columns have been converted to a data frame and each data frame has been added to the original one while replacing the json columns. Also all `nan's` have been filled with either `-999` for categorical values and 0 for numerical values. "
   ]
  },
  {
   "cell_type": "markdown",
   "metadata": {},
   "source": [
    "### Modeling with Numerical Values"
   ]
  },
  {
   "cell_type": "markdown",
   "metadata": {},
   "source": [
    "We obtaining the numerical values from our newly defined values, draw some correlation on them then model. We also test to see our model is doing using the `Root Mean Square Error` metric."
   ]
  },
  {
   "cell_type": "code",
   "execution_count": 47,
   "metadata": {},
   "outputs": [],
   "source": [
    "X_numeric = df._get_numeric_data()"
   ]
  },
  {
   "cell_type": "code",
   "execution_count": 48,
   "metadata": {},
   "outputs": [],
   "source": [
    "y = X_numeric['transactionRevenue']\n",
    "X = X_numeric.drop(['transactionRevenue'], axis=1)"
   ]
  },
  {
   "cell_type": "code",
   "execution_count": 49,
   "metadata": {},
   "outputs": [
    {
     "data": {
      "text/plain": [
       "pageviews         0.155589\n",
       "hits              0.154333\n",
       "visitNumber       0.051366\n",
       "visitStartTime    0.002724\n",
       "visitId           0.002724\n",
       "fullVisitorId    -0.000061\n",
       "sessionId        -0.000061\n",
       "bounces          -0.032206\n",
       "newVisits        -0.041164\n",
       "dtype: float64"
      ]
     },
     "execution_count": 49,
     "metadata": {},
     "output_type": "execute_result"
    }
   ],
   "source": [
    "y_correlated = X.corrwith(y).sort_values(ascending = False)\n",
    "y_correlated"
   ]
  },
  {
   "cell_type": "code",
   "execution_count": 50,
   "metadata": {},
   "outputs": [
    {
     "data": {
      "image/png": "[encoded data removed]",
      "text/plain": [
       "<Figure size 432x288 with 1 Axes>"
      ]
     },
     "metadata": {},
     "output_type": "display_data"
    }
   ],
   "source": [
    "plt.hist(y_correlated)\n",
    "plt.title('Correlation with y-transactionRevene');"
   ]
  },
  {
   "cell_type": "markdown",
   "metadata": {},
   "source": [
    "> The above correlation shows that pageviews and hits are still our two strongest correlated columns with our y-variable"
   ]
  },
  {
   "cell_type": "markdown",
   "metadata": {},
   "source": [
    "Train_test_split was performed and a Linear Regression model was performed on the the numeric data. This also did not do so well. To ensure that our data was equally scaled, a `Standard Scalar` scaling was applied."
   ]
  },
  {
   "cell_type": "code",
   "execution_count": 16,
   "metadata": {},
   "outputs": [
    {
     "data": {
      "text/plain": [
       "LinearRegression(copy_X=True, fit_intercept=True, n_jobs=1, normalize=False)"
      ]
     },
     "execution_count": 16,
     "metadata": {},
     "output_type": "execute_result"
    }
   ],
   "source": [
    "lr = LinearRegression()\n",
    "lr.fit(X_train, y_train)"
   ]
  },
  {
   "cell_type": "code",
   "execution_count": 17,
   "metadata": {},
   "outputs": [
    {
     "data": {
      "text/plain": [
       "(0.027090901576080295, 0.029189809594483695)"
      ]
     },
     "execution_count": 17,
     "metadata": {},
     "output_type": "execute_result"
    }
   ],
   "source": [
    "lr.score(X_train, y_train), lr.score(X_test, y_test)"
   ]
  },
  {
   "cell_type": "markdown",
   "metadata": {},
   "source": [
    "##### Using Ridge and lasso regressing"
   ]
  },
  {
   "cell_type": "markdown",
   "metadata": {},
   "source": [
    "Using RidgeCV (CV for cross-validation) regression seem to perform a bit worse than our Linear Regression Model, so we try LassoCV."
   ]
  },
  {
   "cell_type": "code",
   "execution_count": 19,
   "metadata": {},
   "outputs": [
    {
     "data": {
      "text/plain": [
       "(0.02679019121269599, 0.028680174548972093)"
      ]
     },
     "execution_count": 19,
     "metadata": {},
     "output_type": "execute_result"
    }
   ],
   "source": [
    "rcv = RidgeCV(alphas=np.logspace(0, 5,100), cv = 3)\n",
    "\n",
    "rcv.fit(X_train, y_train)\n",
    "\n",
    "rcv.score(X_train, y_train), rcv.score(X_test, y_test)"
   ]
  },
  {
   "cell_type": "markdown",
   "metadata": {},
   "source": [
    "LassoCv seem to perform about the same with our Linear Regression Model. All three Models still showing a bit of bias, hence underfitting."
   ]
  },
  {
   "cell_type": "code",
   "execution_count": 20,
   "metadata": {},
   "outputs": [
    {
     "data": {
      "text/plain": [
       "(0.027089164390251996, 0.029184380531635412)"
      ]
     },
     "execution_count": 20,
     "metadata": {},
     "output_type": "execute_result"
    }
   ],
   "source": [
    "lcv = LassoCV(cv=3)\n",
    "\n",
    "lcv.fit(X_train, y_train)\n",
    "\n",
    "lcv.score(X_train, y_train), lcv.score(X_test, y_test)"
   ]
  },
  {
   "cell_type": "code",
   "execution_count": 21,
   "metadata": {},
   "outputs": [
    {
     "name": "stdout",
     "output_type": "stream",
     "text": [
      "52.885179478075145\n",
      "49.44385631818874\n"
     ]
    }
   ],
   "source": [
    "from sklearn.metrics import mean_squared_error\n",
    "\n",
    "print(mean_squared_error(y_train, lcv.predict(X_train)) ** 0.5)\n",
    "print (mean_squared_error(y_test, lcv.predict(X_test)) ** 0.5)  "
   ]
  },
  {
   "cell_type": "markdown",
   "metadata": {},
   "source": [
    "Although our model slightly improved, it wasn't by much. It is still showing some bias so we will make our model a bit more complex by adding the categorical features. Beause the values of these features are not numbers we have to find a way to quantify them in such a way that the machine can read them. The `get_dummies()` method will be appled to transform them into `1's and 0's`. This however will increase our columns by how so many unique values we have in our categorical features making our data set much larger and computationally difficult. As a result, some more EDA is performed to closely look at our data and see which columns can be further dropped. "
   ]
  },
  {
   "cell_type": "markdown",
   "metadata": {},
   "source": [
    "Once all the necessary columns were dropped  we were left with 16 columns of which 6 were categorical.\n",
    "These were further transformed into dummies creating 496 new columns. A combined total of `506 columns` and `903653 rows`. This indeed is a large data set to compute on a regular machine. **Time permitting, I may try creating models on AWS and on scala using spark.**"
   ]
  },
  {
   "cell_type": "markdown",
   "metadata": {},
   "source": [
    "This new data set is saved as a new `csv` file and used in other notebooks for modeling."
   ]
  },
  {
   "cell_type": "markdown",
   "metadata": {},
   "source": [
    "Again we perform a Linear Regression, RidgeCV and LassoCv on our combined data set and check how well we are doing with the `RMSE` metric. Our results is as follows:"
   ]
  },
  {
   "cell_type": "code",
   "execution_count": 26,
   "metadata": {},
   "outputs": [
    {
     "data": {
      "text/plain": [
       "LinearRegression(copy_X=True, fit_intercept=True, n_jobs=1, normalize=False)"
      ]
     },
     "execution_count": 26,
     "metadata": {},
     "output_type": "execute_result"
    }
   ],
   "source": [
    "lr = LinearRegression()\n",
    "lr.fit(X_train, y_train)"
   ]
  },
  {
   "cell_type": "code",
   "execution_count": 27,
   "metadata": {},
   "outputs": [
    {
     "data": {
      "text/plain": [
       "(0.02798355943529396, -1.1352755306492406e+26)"
      ]
     },
     "execution_count": 27,
     "metadata": {},
     "output_type": "execute_result"
    }
   ],
   "source": [
    "lr.score(X_train, y_train), lr.score(X_test, y_test)"
   ]
  },
  {
   "cell_type": "code",
   "execution_count": 36,
   "metadata": {},
   "outputs": [
    {
     "name": "stdout",
     "output_type": "stream",
     "text": [
      "52.86086526730443\n",
      "534680809415504.75\n"
     ]
    }
   ],
   "source": [
    "from sklearn.metrics import mean_squared_error\n",
    "\n",
    "print(mean_squared_error(y_train, lr.predict(X_train)) ** 0.5)\n",
    "print (mean_squared_error(y_test, lr.predict(X_test)) ** 0.5)  "
   ]
  },
  {
   "cell_type": "markdown",
   "metadata": {},
   "source": [
    "Linear Regression performs much worse here with a great deal overfitting and our metric does prove its awful performance. "
   ]
  },
  {
   "cell_type": "markdown",
   "metadata": {},
   "source": [
    "##### Using Ridge and lasso regressing"
   ]
  },
  {
   "cell_type": "code",
   "execution_count": 1,
   "metadata": {},
   "outputs": [],
   "source": [
    "# rcv = RidgeCV(alphas=np.logspace(0, 5,100), cv = 3)\n",
    "\n",
    "# rcv.fit(X_train, y_train)\n",
    "\n",
    "# rcv.score(X_train, y_train), rcv.score(X_test, y_test)"
   ]
  },
  {
   "cell_type": "code",
   "execution_count": null,
   "metadata": {},
   "outputs": [],
   "source": [
    "# print(mean_squared_error(y_train, rcv.predict(X_train)) ** 0.5)\n",
    "# print (mean_squared_error(y_test, rcv.predict(X_test)) ** 0.5) "
   ]
  },
  {
   "cell_type": "markdown",
   "metadata": {},
   "source": [
    "Using RidgeCV was a bit computationally intense and kept crashing the computer, hence we did not get any output. However, LassoCV seem to score about the same as with using only the numerical values."
   ]
  },
  {
   "cell_type": "code",
   "execution_count": 30,
   "metadata": {},
   "outputs": [
    {
     "data": {
      "text/plain": [
       "(0.028095641353674154, 0.029466466384250323)"
      ]
     },
     "execution_count": 30,
     "metadata": {},
     "output_type": "execute_result"
    }
   ],
   "source": [
    "lcv = LassoCV(cv=3)\n",
    "\n",
    "lcv.fit(X_train, y_train)\n",
    "\n",
    "lcv.score(X_train, y_train), lcv.score(X_test, y_test)"
   ]
  },
  {
   "cell_type": "code",
   "execution_count": 35,
   "metadata": {},
   "outputs": [
    {
     "name": "stdout",
     "output_type": "stream",
     "text": [
      "52.85781752153458\n",
      "49.43667244856717\n"
     ]
    }
   ],
   "source": [
    "from sklearn.metrics import mean_squared_error\n",
    "\n",
    "print(mean_squared_error(y_train, lcv.predict(X_train)) ** 0.5)\n",
    "print (mean_squared_error(y_test, lcv.predict(X_test)) ** 0.5)  "
   ]
  },
  {
   "cell_type": "markdown",
   "metadata": {},
   "source": [
    "Our metric without surprise is still about the same as just modeling with the totals data set. However, by taking the coefficients from our Lasso model, we get to see which feature zeros out (having less of an impact on our model) and which ones tend not to converge at zero (have more impact)."
   ]
  },
  {
   "cell_type": "code",
   "execution_count": 31,
   "metadata": {},
   "outputs": [],
   "source": [
    "variables = X_df.columns\n",
    "coef_values = lcv.coef_\n",
    "\n",
    "variables_dictionary = {\n",
    "    'variables': variables,\n",
    "    'coefficient': coef_values\n",
    "}"
   ]
  },
  {
   "cell_type": "code",
   "execution_count": 34,
   "metadata": {},
   "outputs": [
    {
     "data": {
      "text/html": [
       "<div>\n",
       "<style scoped>\n",
       "    .dataframe tbody tr th:only-of-type {\n",
       "        vertical-align: middle;\n",
       "    }\n",
       "\n",
       "    .dataframe tbody tr th {\n",
       "        vertical-align: top;\n",
       "    }\n",
       "\n",
       "    .dataframe thead th {\n",
       "        text-align: right;\n",
       "    }\n",
       "</style>\n",
       "<table border=\"1\" class=\"dataframe\">\n",
       "  <thead>\n",
       "    <tr style=\"text-align: right;\">\n",
       "      <th></th>\n",
       "      <th>coefficient</th>\n",
       "    </tr>\n",
       "    <tr>\n",
       "      <th>variables</th>\n",
       "      <th></th>\n",
       "    </tr>\n",
       "  </thead>\n",
       "  <tbody>\n",
       "    <tr>\n",
       "      <th>pageviews</th>\n",
       "      <td>7.297421</td>\n",
       "    </tr>\n",
       "    <tr>\n",
       "      <th>visitNumber</th>\n",
       "      <td>2.244989</td>\n",
       "    </tr>\n",
       "    <tr>\n",
       "      <th>bounces</th>\n",
       "      <td>1.914733</td>\n",
       "    </tr>\n",
       "    <tr>\n",
       "      <th>hits</th>\n",
       "      <td>1.501596</td>\n",
       "    </tr>\n",
       "    <tr>\n",
       "      <th>source_dfa</th>\n",
       "      <td>0.920334</td>\n",
       "    </tr>\n",
       "  </tbody>\n",
       "</table>\n",
       "</div>"
      ],
      "text/plain": [
       "             coefficient\n",
       "variables               \n",
       "pageviews       7.297421\n",
       "visitNumber     2.244989\n",
       "bounces         1.914733\n",
       "hits            1.501596\n",
       "source_dfa      0.920334"
      ]
     },
     "execution_count": 34,
     "metadata": {},
     "output_type": "execute_result"
    }
   ],
   "source": [
    "pd.DataFrame(variables_dictionary).set_index('variables').sort_values('coefficient', ascending=False).head(5)"
   ]
  },
  {
   "cell_type": "markdown",
   "metadata": {},
   "source": [
    "Listed above are the top impactful variables."
   ]
  },
  {
   "cell_type": "markdown",
   "metadata": {},
   "source": [
    "### Model Comparison"
   ]
  },
  {
   "cell_type": "markdown",
   "metadata": {},
   "source": [
    "We draw a comparison between seven different models to see which works best on our data set."
   ]
  },
  {
   "cell_type": "code",
   "execution_count": 18,
   "metadata": {},
   "outputs": [],
   "source": [
    "lr = LinearRegression()\n",
    "dtr = DecisionTreeRegressor()\n",
    "etr = ExtraTreesRegressor()\n",
    "rfr = RandomForestRegressor()\n",
    "abr = AdaBoostRegressor()\n",
    "gbr = GradientBoostingRegressor()\n",
    "svr = SVR()\n",
    "\n",
    "list_of_models = [lr, dtr, etr, rfr, abr, gbr, svr]"
   ]
  },
  {
   "cell_type": "code",
   "execution_count": null,
   "metadata": {},
   "outputs": [
    {
     "name": "stdout",
     "output_type": "stream",
     "text": [
      "LinearRegression\n",
      "Training score:\n",
      "1.0\n",
      "Testing score:\n",
      "-220.0415012211023\n",
      "\n",
      "DecisionTreeRegressor\n",
      "Training score:\n",
      "0.9999999999991275\n",
      "Testing score:\n",
      "0.9503931282614783\n",
      "\n",
      "ExtraTreesRegressor\n",
      "Training score:\n",
      "0.9999999999978048\n",
      "Testing score:\n",
      "0.9971348747207184\n",
      "\n",
      "RandomForestRegressor\n",
      "Training score:\n",
      "0.9939324219021701\n",
      "Testing score:\n",
      "0.9920143239075393\n",
      "\n",
      "AdaBoostRegressor\n",
      "Training score:\n",
      "0.9631905882191997\n",
      "Testing score:\n",
      "0.9614398870356407\n",
      "\n",
      "GradientBoostingRegressor\n",
      "Training score:\n",
      "0.9999393721053543\n",
      "Testing score:\n",
      "0.9903982779576365\n",
      "\n",
      "SVR\n"
     ]
    }
   ],
   "source": [
    "for each in list_of_models:\n",
    "    print(str(each).split('(')[0])\n",
    "    each.fit(X_train, y_train)\n",
    "    print('Training score:')\n",
    "    print(each.score(X_train, y_train))\n",
    "    print('Testing score:')\n",
    "    print(each.score(X_test, y_test))\n",
    "    print()"
   ]
  },
  {
   "cell_type": "markdown",
   "metadata": {},
   "source": [
    "Our findings reveal, Linear Regrssion to be grossly overfitting. The other models show some overfitting but not by much. ExtraTressRegressor seem to have the best score and least overfitting going on with regards to the other CARTs."
   ]
  },
  {
   "cell_type": "code",
   "execution_count": 13,
   "metadata": {},
   "outputs": [
    {
     "data": {
      "text/plain": [
       "GradientBoostingRegressor(alpha=0.9, criterion='friedman_mse', init=None,\n",
       "             learning_rate=0.1, loss='ls', max_depth=3, max_features=None,\n",
       "             max_leaf_nodes=None, min_impurity_decrease=0.0,\n",
       "             min_impurity_split=None, min_samples_leaf=1,\n",
       "             min_samples_split=2, min_weight_fraction_leaf=0.0,\n",
       "             n_estimators=100, presort='auto', random_state=None,\n",
       "             subsample=1.0, verbose=0, warm_start=False)"
      ]
     },
     "execution_count": 13,
     "metadata": {},
     "output_type": "execute_result"
    }
   ],
   "source": [
    "gbr.fit(X_train, y_train)"
   ]
  },
  {
   "cell_type": "code",
   "execution_count": 14,
   "metadata": {},
   "outputs": [
    {
     "data": {
      "text/plain": [
       "(0.9999393721053543, 0.9918393009835544)"
      ]
     },
     "execution_count": 14,
     "metadata": {},
     "output_type": "execute_result"
    }
   ],
   "source": [
    "gbr.score(X_train, y_train), gbr.score(X_test, y_test)"
   ]
  },
  {
   "cell_type": "markdown",
   "metadata": {},
   "source": [
    "Taking the RMSE metric of the gradiant boosting regressor shows a much better performance than what we got for Linear Regression."
   ]
  },
  {
   "cell_type": "code",
   "execution_count": 17,
   "metadata": {},
   "outputs": [
    {
     "name": "stdout",
     "output_type": "stream",
     "text": [
      "0.4174781074857505\n",
      "4.5332287915270895\n"
     ]
    }
   ],
   "source": [
    "print(mean_squared_error(y_train, gbr.predict(X_train)) ** 0.5)\n",
    "print (mean_squared_error(y_test, gbr.predict(X_test)) ** 0.5)  "
   ]
  },
  {
   "cell_type": "markdown",
   "metadata": {},
   "source": [
    "### Summary"
   ]
  },
  {
   "cell_type": "markdown",
   "metadata": {},
   "source": [
    "- We began with trying to predict the how much customers will spend at a gStore.\n",
    "- we analyze our data, performed some EDA and dropped the necessary columns.\n",
    "- We then tried predicting on just on numerical columns and found that to be adequately lacking.\n",
    "- Intend we tried predicting on all remaining columns both numerical and categorical coloumns and found that our model performed much better. Although we are scoring at 99% on some of our models, we realize that there is still room for improvement on our model.\n"
   ]
  },
  {
   "cell_type": "markdown",
   "metadata": {},
   "source": [
    "### Suggested Improvements"
   ]
  },
  {
   "cell_type": "markdown",
   "metadata": {},
   "source": [
    "- Since there is overfitting occuring, we might try to reduce the variance by making our model less complex.\n",
    "- We might consider using only the top five impactful variables especially outlined by our LassoCV coeffients."
   ]
  },
  {
   "cell_type": "code",
   "execution_count": null,
   "metadata": {},
   "outputs": [],
   "source": []
  }
 ],
 "metadata": {
  "kernelspec": {
   "display_name": "Python 3",
   "language": "python",
   "name": "python3"
  },
  "language_info": {
   "codemirror_mode": {
    "name": "ipython",
    "version": 3
   },
   "file_extension": ".py",
   "mimetype": "text/x-python",
   "name": "python",
   "nbconvert_exporter": "python",
   "pygments_lexer": "ipython3",
   "version": "3.6.5"
  }
 },
 "nbformat": 4,
 "nbformat_minor": 2
}
