{
 "cells": [
  {
   "cell_type": "markdown",
   "metadata": {},
   "source": [
    "# Capstone Project - Google Predictive Analytics"
   ]
  },
  {
   "cell_type": "markdown",
   "metadata": {},
   "source": [
    "## Part_5: Modeling \n",
    "\n",
    "### Performs some more EDA and Modeling"
   ]
  },
  {
   "cell_type": "code",
   "execution_count": 4,
   "metadata": {},
   "outputs": [],
   "source": [
    "import pandas as pd\n",
    "import numpy as np"
   ]
  },
  {
   "cell_type": "code",
   "execution_count": 5,
   "metadata": {},
   "outputs": [
    {
     "name": "stderr",
     "output_type": "stream",
     "text": [
      "C:\\Users\\install\\Anaconda3\\lib\\site-packages\\IPython\\core\\interactiveshell.py:2785: DtypeWarning: Columns (2) have mixed types. Specify dtype option on import or set low_memory=False.\n",
      "  interactivity=interactivity, compiler=compiler, result=result)\n"
     ]
    }
   ],
   "source": [
    "df = pd.read_csv(\"../capstone_data/kaggle_data/df_combined_tables.csv\")"
   ]
  },
  {
   "cell_type": "code",
   "execution_count": 6,
   "metadata": {},
   "outputs": [
    {
     "data": {
      "text/html": [
       "<div>\n",
       "<style scoped>\n",
       "    .dataframe tbody tr th:only-of-type {\n",
       "        vertical-align: middle;\n",
       "    }\n",
       "\n",
       "    .dataframe tbody tr th {\n",
       "        vertical-align: top;\n",
       "    }\n",
       "\n",
       "    .dataframe thead th {\n",
       "        text-align: right;\n",
       "    }\n",
       "</style>\n",
       "<table border=\"1\" class=\"dataframe\">\n",
       "  <thead>\n",
       "    <tr style=\"text-align: right;\">\n",
       "      <th></th>\n",
       "      <th>channelGrouping</th>\n",
       "      <th>date</th>\n",
       "      <th>fullVisitorId</th>\n",
       "      <th>sessionId</th>\n",
       "      <th>visitId</th>\n",
       "      <th>visitNumber</th>\n",
       "      <th>visitStartTime</th>\n",
       "      <th>browser</th>\n",
       "      <th>deviceCategory</th>\n",
       "      <th>operatingSystem</th>\n",
       "      <th>...</th>\n",
       "      <th>campaign</th>\n",
       "      <th>isTrueDirect</th>\n",
       "      <th>keyword</th>\n",
       "      <th>referralPath</th>\n",
       "      <th>source</th>\n",
       "      <th>bounces</th>\n",
       "      <th>hits</th>\n",
       "      <th>newVisits</th>\n",
       "      <th>pageviews</th>\n",
       "      <th>transactionRevenue</th>\n",
       "    </tr>\n",
       "  </thead>\n",
       "  <tbody>\n",
       "    <tr>\n",
       "      <th>0</th>\n",
       "      <td>Organic Search</td>\n",
       "      <td>1970-01-01 00:00:00.020160902</td>\n",
       "      <td>1131660440785968503</td>\n",
       "      <td>1131660440785968503_1472830385</td>\n",
       "      <td>1472830385</td>\n",
       "      <td>1</td>\n",
       "      <td>1472830385</td>\n",
       "      <td>Chrome</td>\n",
       "      <td>desktop</td>\n",
       "      <td>Windows</td>\n",
       "      <td>...</td>\n",
       "      <td>(not set)</td>\n",
       "      <td>-999</td>\n",
       "      <td>(not provided)</td>\n",
       "      <td>-999</td>\n",
       "      <td>google</td>\n",
       "      <td>1</td>\n",
       "      <td>1</td>\n",
       "      <td>1</td>\n",
       "      <td>1</td>\n",
       "      <td>0.0</td>\n",
       "    </tr>\n",
       "    <tr>\n",
       "      <th>1</th>\n",
       "      <td>Organic Search</td>\n",
       "      <td>1970-01-01 00:00:00.020160902</td>\n",
       "      <td>377306020877927890</td>\n",
       "      <td>377306020877927890_1472880147</td>\n",
       "      <td>1472880147</td>\n",
       "      <td>1</td>\n",
       "      <td>1472880147</td>\n",
       "      <td>Firefox</td>\n",
       "      <td>desktop</td>\n",
       "      <td>Macintosh</td>\n",
       "      <td>...</td>\n",
       "      <td>(not set)</td>\n",
       "      <td>-999</td>\n",
       "      <td>(not provided)</td>\n",
       "      <td>-999</td>\n",
       "      <td>google</td>\n",
       "      <td>1</td>\n",
       "      <td>1</td>\n",
       "      <td>1</td>\n",
       "      <td>1</td>\n",
       "      <td>0.0</td>\n",
       "    </tr>\n",
       "    <tr>\n",
       "      <th>2</th>\n",
       "      <td>Organic Search</td>\n",
       "      <td>1970-01-01 00:00:00.020160902</td>\n",
       "      <td>3895546263509774583</td>\n",
       "      <td>3895546263509774583_1472865386</td>\n",
       "      <td>1472865386</td>\n",
       "      <td>1</td>\n",
       "      <td>1472865386</td>\n",
       "      <td>Chrome</td>\n",
       "      <td>desktop</td>\n",
       "      <td>Windows</td>\n",
       "      <td>...</td>\n",
       "      <td>(not set)</td>\n",
       "      <td>-999</td>\n",
       "      <td>(not provided)</td>\n",
       "      <td>-999</td>\n",
       "      <td>google</td>\n",
       "      <td>1</td>\n",
       "      <td>1</td>\n",
       "      <td>1</td>\n",
       "      <td>1</td>\n",
       "      <td>0.0</td>\n",
       "    </tr>\n",
       "    <tr>\n",
       "      <th>3</th>\n",
       "      <td>Organic Search</td>\n",
       "      <td>1970-01-01 00:00:00.020160902</td>\n",
       "      <td>4763447161404445595</td>\n",
       "      <td>4763447161404445595_1472881213</td>\n",
       "      <td>1472881213</td>\n",
       "      <td>1</td>\n",
       "      <td>1472881213</td>\n",
       "      <td>UC Browser</td>\n",
       "      <td>desktop</td>\n",
       "      <td>Linux</td>\n",
       "      <td>...</td>\n",
       "      <td>(not set)</td>\n",
       "      <td>-999</td>\n",
       "      <td>google + online</td>\n",
       "      <td>-999</td>\n",
       "      <td>google</td>\n",
       "      <td>1</td>\n",
       "      <td>1</td>\n",
       "      <td>1</td>\n",
       "      <td>1</td>\n",
       "      <td>0.0</td>\n",
       "    </tr>\n",
       "    <tr>\n",
       "      <th>4</th>\n",
       "      <td>Organic Search</td>\n",
       "      <td>1970-01-01 00:00:00.020160902</td>\n",
       "      <td>27294437909732085</td>\n",
       "      <td>27294437909732085_1472822600</td>\n",
       "      <td>1472822600</td>\n",
       "      <td>2</td>\n",
       "      <td>1472822600</td>\n",
       "      <td>Chrome</td>\n",
       "      <td>mobile</td>\n",
       "      <td>Android</td>\n",
       "      <td>...</td>\n",
       "      <td>(not set)</td>\n",
       "      <td>True</td>\n",
       "      <td>(not provided)</td>\n",
       "      <td>-999</td>\n",
       "      <td>google</td>\n",
       "      <td>1</td>\n",
       "      <td>1</td>\n",
       "      <td>0</td>\n",
       "      <td>1</td>\n",
       "      <td>0.0</td>\n",
       "    </tr>\n",
       "  </tbody>\n",
       "</table>\n",
       "<p>5 rows × 24 columns</p>\n",
       "</div>"
      ],
      "text/plain": [
       "  channelGrouping                           date        fullVisitorId  \\\n",
       "0  Organic Search  1970-01-01 00:00:00.020160902  1131660440785968503   \n",
       "1  Organic Search  1970-01-01 00:00:00.020160902   377306020877927890   \n",
       "2  Organic Search  1970-01-01 00:00:00.020160902  3895546263509774583   \n",
       "3  Organic Search  1970-01-01 00:00:00.020160902  4763447161404445595   \n",
       "4  Organic Search  1970-01-01 00:00:00.020160902    27294437909732085   \n",
       "\n",
       "                        sessionId     visitId  visitNumber  visitStartTime  \\\n",
       "0  1131660440785968503_1472830385  1472830385            1      1472830385   \n",
       "1   377306020877927890_1472880147  1472880147            1      1472880147   \n",
       "2  3895546263509774583_1472865386  1472865386            1      1472865386   \n",
       "3  4763447161404445595_1472881213  1472881213            1      1472881213   \n",
       "4    27294437909732085_1472822600  1472822600            2      1472822600   \n",
       "\n",
       "      browser deviceCategory operatingSystem         ...           campaign  \\\n",
       "0      Chrome        desktop         Windows         ...          (not set)   \n",
       "1     Firefox        desktop       Macintosh         ...          (not set)   \n",
       "2      Chrome        desktop         Windows         ...          (not set)   \n",
       "3  UC Browser        desktop           Linux         ...          (not set)   \n",
       "4      Chrome         mobile         Android         ...          (not set)   \n",
       "\n",
       "  isTrueDirect          keyword referralPath  source bounces hits newVisits  \\\n",
       "0         -999   (not provided)         -999  google       1    1         1   \n",
       "1         -999   (not provided)         -999  google       1    1         1   \n",
       "2         -999   (not provided)         -999  google       1    1         1   \n",
       "3         -999  google + online         -999  google       1    1         1   \n",
       "4         True   (not provided)         -999  google       1    1         0   \n",
       "\n",
       "  pageviews  transactionRevenue  \n",
       "0         1                 0.0  \n",
       "1         1                 0.0  \n",
       "2         1                 0.0  \n",
       "3         1                 0.0  \n",
       "4         1                 0.0  \n",
       "\n",
       "[5 rows x 24 columns]"
      ]
     },
     "execution_count": 6,
     "metadata": {},
     "output_type": "execute_result"
    }
   ],
   "source": [
    "df.head()"
   ]
  },
  {
   "cell_type": "code",
   "execution_count": 7,
   "metadata": {},
   "outputs": [
    {
     "data": {
      "text/html": [
       "<div>\n",
       "<style scoped>\n",
       "    .dataframe tbody tr th:only-of-type {\n",
       "        vertical-align: middle;\n",
       "    }\n",
       "\n",
       "    .dataframe tbody tr th {\n",
       "        vertical-align: top;\n",
       "    }\n",
       "\n",
       "    .dataframe thead th {\n",
       "        text-align: right;\n",
       "    }\n",
       "</style>\n",
       "<table border=\"1\" class=\"dataframe\">\n",
       "  <thead>\n",
       "    <tr style=\"text-align: right;\">\n",
       "      <th></th>\n",
       "      <th>visitId</th>\n",
       "      <th>visitNumber</th>\n",
       "      <th>visitStartTime</th>\n",
       "      <th>bounces</th>\n",
       "      <th>hits</th>\n",
       "      <th>newVisits</th>\n",
       "      <th>pageviews</th>\n",
       "      <th>transactionRevenue</th>\n",
       "    </tr>\n",
       "  </thead>\n",
       "  <tbody>\n",
       "    <tr>\n",
       "      <th>count</th>\n",
       "      <td>9.036530e+05</td>\n",
       "      <td>903653.000000</td>\n",
       "      <td>9.036530e+05</td>\n",
       "      <td>903653.000000</td>\n",
       "      <td>903653.000000</td>\n",
       "      <td>903653.000000</td>\n",
       "      <td>903653.000000</td>\n",
       "      <td>903653.000000</td>\n",
       "    </tr>\n",
       "    <tr>\n",
       "      <th>mean</th>\n",
       "      <td>1.485007e+09</td>\n",
       "      <td>2.264897</td>\n",
       "      <td>1.485007e+09</td>\n",
       "      <td>0.498676</td>\n",
       "      <td>4.596538</td>\n",
       "      <td>0.778020</td>\n",
       "      <td>3.849338</td>\n",
       "      <td>1.704273</td>\n",
       "    </tr>\n",
       "    <tr>\n",
       "      <th>std</th>\n",
       "      <td>9.022124e+06</td>\n",
       "      <td>9.283735</td>\n",
       "      <td>9.022124e+06</td>\n",
       "      <td>0.499999</td>\n",
       "      <td>9.641437</td>\n",
       "      <td>0.415578</td>\n",
       "      <td>7.025002</td>\n",
       "      <td>52.778659</td>\n",
       "    </tr>\n",
       "    <tr>\n",
       "      <th>min</th>\n",
       "      <td>1.470035e+09</td>\n",
       "      <td>1.000000</td>\n",
       "      <td>1.470035e+09</td>\n",
       "      <td>0.000000</td>\n",
       "      <td>1.000000</td>\n",
       "      <td>0.000000</td>\n",
       "      <td>0.000000</td>\n",
       "      <td>0.000000</td>\n",
       "    </tr>\n",
       "    <tr>\n",
       "      <th>25%</th>\n",
       "      <td>1.477561e+09</td>\n",
       "      <td>1.000000</td>\n",
       "      <td>1.477561e+09</td>\n",
       "      <td>0.000000</td>\n",
       "      <td>1.000000</td>\n",
       "      <td>1.000000</td>\n",
       "      <td>1.000000</td>\n",
       "      <td>0.000000</td>\n",
       "    </tr>\n",
       "    <tr>\n",
       "      <th>50%</th>\n",
       "      <td>1.483949e+09</td>\n",
       "      <td>1.000000</td>\n",
       "      <td>1.483949e+09</td>\n",
       "      <td>0.000000</td>\n",
       "      <td>2.000000</td>\n",
       "      <td>1.000000</td>\n",
       "      <td>1.000000</td>\n",
       "      <td>0.000000</td>\n",
       "    </tr>\n",
       "    <tr>\n",
       "      <th>75%</th>\n",
       "      <td>1.492759e+09</td>\n",
       "      <td>1.000000</td>\n",
       "      <td>1.492759e+09</td>\n",
       "      <td>1.000000</td>\n",
       "      <td>4.000000</td>\n",
       "      <td>1.000000</td>\n",
       "      <td>4.000000</td>\n",
       "      <td>0.000000</td>\n",
       "    </tr>\n",
       "    <tr>\n",
       "      <th>max</th>\n",
       "      <td>1.501657e+09</td>\n",
       "      <td>395.000000</td>\n",
       "      <td>1.501657e+09</td>\n",
       "      <td>1.000000</td>\n",
       "      <td>500.000000</td>\n",
       "      <td>1.000000</td>\n",
       "      <td>469.000000</td>\n",
       "      <td>23129.500000</td>\n",
       "    </tr>\n",
       "  </tbody>\n",
       "</table>\n",
       "</div>"
      ],
      "text/plain": [
       "            visitId    visitNumber  visitStartTime        bounces  \\\n",
       "count  9.036530e+05  903653.000000    9.036530e+05  903653.000000   \n",
       "mean   1.485007e+09       2.264897    1.485007e+09       0.498676   \n",
       "std    9.022124e+06       9.283735    9.022124e+06       0.499999   \n",
       "min    1.470035e+09       1.000000    1.470035e+09       0.000000   \n",
       "25%    1.477561e+09       1.000000    1.477561e+09       0.000000   \n",
       "50%    1.483949e+09       1.000000    1.483949e+09       0.000000   \n",
       "75%    1.492759e+09       1.000000    1.492759e+09       1.000000   \n",
       "max    1.501657e+09     395.000000    1.501657e+09       1.000000   \n",
       "\n",
       "                hits      newVisits      pageviews  transactionRevenue  \n",
       "count  903653.000000  903653.000000  903653.000000       903653.000000  \n",
       "mean        4.596538       0.778020       3.849338            1.704273  \n",
       "std         9.641437       0.415578       7.025002           52.778659  \n",
       "min         1.000000       0.000000       0.000000            0.000000  \n",
       "25%         1.000000       1.000000       1.000000            0.000000  \n",
       "50%         2.000000       1.000000       1.000000            0.000000  \n",
       "75%         4.000000       1.000000       4.000000            0.000000  \n",
       "max       500.000000       1.000000     469.000000        23129.500000  "
      ]
     },
     "execution_count": 7,
     "metadata": {},
     "output_type": "execute_result"
    }
   ],
   "source": [
    "df.describe()"
   ]
  },
  {
   "cell_type": "code",
   "execution_count": 8,
   "metadata": {},
   "outputs": [
    {
     "data": {
      "text/html": [
       "<div>\n",
       "<style scoped>\n",
       "    .dataframe tbody tr th:only-of-type {\n",
       "        vertical-align: middle;\n",
       "    }\n",
       "\n",
       "    .dataframe tbody tr th {\n",
       "        vertical-align: top;\n",
       "    }\n",
       "\n",
       "    .dataframe thead th {\n",
       "        text-align: right;\n",
       "    }\n",
       "</style>\n",
       "<table border=\"1\" class=\"dataframe\">\n",
       "  <thead>\n",
       "    <tr style=\"text-align: right;\">\n",
       "      <th></th>\n",
       "      <th>visitId</th>\n",
       "      <th>visitNumber</th>\n",
       "      <th>visitStartTime</th>\n",
       "      <th>bounces</th>\n",
       "      <th>hits</th>\n",
       "      <th>newVisits</th>\n",
       "      <th>pageviews</th>\n",
       "      <th>transactionRevenue</th>\n",
       "    </tr>\n",
       "  </thead>\n",
       "  <tbody>\n",
       "    <tr>\n",
       "      <th>visitId</th>\n",
       "      <td>1.000000</td>\n",
       "      <td>0.002069</td>\n",
       "      <td>1.000000</td>\n",
       "      <td>-0.000131</td>\n",
       "      <td>-0.027701</td>\n",
       "      <td>-0.041035</td>\n",
       "      <td>-0.022262</td>\n",
       "      <td>0.002724</td>\n",
       "    </tr>\n",
       "    <tr>\n",
       "      <th>visitNumber</th>\n",
       "      <td>0.002069</td>\n",
       "      <td>1.000000</td>\n",
       "      <td>0.002069</td>\n",
       "      <td>-0.023754</td>\n",
       "      <td>0.041317</td>\n",
       "      <td>-0.255077</td>\n",
       "      <td>0.043332</td>\n",
       "      <td>0.051366</td>\n",
       "    </tr>\n",
       "    <tr>\n",
       "      <th>visitStartTime</th>\n",
       "      <td>1.000000</td>\n",
       "      <td>0.002069</td>\n",
       "      <td>1.000000</td>\n",
       "      <td>-0.000131</td>\n",
       "      <td>-0.027701</td>\n",
       "      <td>-0.041035</td>\n",
       "      <td>-0.022262</td>\n",
       "      <td>0.002724</td>\n",
       "    </tr>\n",
       "    <tr>\n",
       "      <th>bounces</th>\n",
       "      <td>-0.000131</td>\n",
       "      <td>-0.023754</td>\n",
       "      <td>-0.000131</td>\n",
       "      <td>1.000000</td>\n",
       "      <td>-0.371136</td>\n",
       "      <td>0.078841</td>\n",
       "      <td>-0.404527</td>\n",
       "      <td>-0.032206</td>\n",
       "    </tr>\n",
       "    <tr>\n",
       "      <th>hits</th>\n",
       "      <td>-0.027701</td>\n",
       "      <td>0.041317</td>\n",
       "      <td>-0.027701</td>\n",
       "      <td>-0.371136</td>\n",
       "      <td>1.000000</td>\n",
       "      <td>-0.115202</td>\n",
       "      <td>0.983201</td>\n",
       "      <td>0.154333</td>\n",
       "    </tr>\n",
       "    <tr>\n",
       "      <th>newVisits</th>\n",
       "      <td>-0.041035</td>\n",
       "      <td>-0.255077</td>\n",
       "      <td>-0.041035</td>\n",
       "      <td>0.078841</td>\n",
       "      <td>-0.115202</td>\n",
       "      <td>1.000000</td>\n",
       "      <td>-0.117150</td>\n",
       "      <td>-0.041164</td>\n",
       "    </tr>\n",
       "    <tr>\n",
       "      <th>pageviews</th>\n",
       "      <td>-0.022262</td>\n",
       "      <td>0.043332</td>\n",
       "      <td>-0.022262</td>\n",
       "      <td>-0.404527</td>\n",
       "      <td>0.983201</td>\n",
       "      <td>-0.117150</td>\n",
       "      <td>1.000000</td>\n",
       "      <td>0.155589</td>\n",
       "    </tr>\n",
       "    <tr>\n",
       "      <th>transactionRevenue</th>\n",
       "      <td>0.002724</td>\n",
       "      <td>0.051366</td>\n",
       "      <td>0.002724</td>\n",
       "      <td>-0.032206</td>\n",
       "      <td>0.154333</td>\n",
       "      <td>-0.041164</td>\n",
       "      <td>0.155589</td>\n",
       "      <td>1.000000</td>\n",
       "    </tr>\n",
       "  </tbody>\n",
       "</table>\n",
       "</div>"
      ],
      "text/plain": [
       "                     visitId  visitNumber  visitStartTime   bounces      hits  \\\n",
       "visitId             1.000000     0.002069        1.000000 -0.000131 -0.027701   \n",
       "visitNumber         0.002069     1.000000        0.002069 -0.023754  0.041317   \n",
       "visitStartTime      1.000000     0.002069        1.000000 -0.000131 -0.027701   \n",
       "bounces            -0.000131    -0.023754       -0.000131  1.000000 -0.371136   \n",
       "hits               -0.027701     0.041317       -0.027701 -0.371136  1.000000   \n",
       "newVisits          -0.041035    -0.255077       -0.041035  0.078841 -0.115202   \n",
       "pageviews          -0.022262     0.043332       -0.022262 -0.404527  0.983201   \n",
       "transactionRevenue  0.002724     0.051366        0.002724 -0.032206  0.154333   \n",
       "\n",
       "                    newVisits  pageviews  transactionRevenue  \n",
       "visitId             -0.041035  -0.022262            0.002724  \n",
       "visitNumber         -0.255077   0.043332            0.051366  \n",
       "visitStartTime      -0.041035  -0.022262            0.002724  \n",
       "bounces              0.078841  -0.404527           -0.032206  \n",
       "hits                -0.115202   0.983201            0.154333  \n",
       "newVisits            1.000000  -0.117150           -0.041164  \n",
       "pageviews           -0.117150   1.000000            0.155589  \n",
       "transactionRevenue  -0.041164   0.155589            1.000000  "
      ]
     },
     "execution_count": 8,
     "metadata": {},
     "output_type": "execute_result"
    }
   ],
   "source": [
    "df.corr()"
   ]
  },
  {
   "cell_type": "code",
   "execution_count": 9,
   "metadata": {},
   "outputs": [],
   "source": [
    "import matplotlib\n",
    "import matplotlib.pyplot as plt\n",
    "import seaborn as sns\n",
    "plt.style.use('fivethirtyeight')\n",
    "\n",
    "%config InlineBackend.figure_format = 'retina'\n",
    "sns.set_style('whitegrid')\n",
    "plt.style.use('fivethirtyeight')\n",
    "%matplotlib inline"
   ]
  },
  {
   "cell_type": "code",
   "execution_count": 10,
   "metadata": {},
   "outputs": [],
   "source": [
    "# sns.heatmap(X_train[df_numbers_corr].corr(), vmin=-1, vmax=1);"
   ]
  },
  {
   "cell_type": "code",
   "execution_count": 11,
   "metadata": {},
   "outputs": [
    {
     "data": {
      "text/plain": [
       "<matplotlib.axes._subplots.AxesSubplot at 0x1aa185f4278>"
      ]
     },
     "execution_count": 11,
     "metadata": {},
     "output_type": "execute_result"
    },
    {
     "data": {
      "image/png": "[encoded data removed]",
      "text/plain": [
       "<Figure size 864x432 with 2 Axes>"
      ]
     },
     "metadata": {
      "image/png": {
       "height": 353,
       "width": 785
      }
     },
     "output_type": "display_data"
    }
   ],
   "source": [
    "plt.figure(figsize=(12,6))\n",
    "sns.heatmap(df.corr(), vmin=-1, vmax=1, annot=True)"
   ]
  },
  {
   "cell_type": "markdown",
   "metadata": {},
   "source": [
    ">From the correlation heatmap, we see that transactionRevenue has a strong correlation with hits and pageviews, howerver, pageviews has a much stronger correlation with hits. "
   ]
  },
  {
   "cell_type": "markdown",
   "metadata": {},
   "source": [
    "#### Creating a basic model using only the numerical values of df."
   ]
  },
  {
   "cell_type": "code",
   "execution_count": 13,
   "metadata": {},
   "outputs": [],
   "source": [
    "y = df['transactionRevenue']\n",
    "X = df.drop(['transactionRevenue'], axis=1)"
   ]
  },
  {
   "cell_type": "code",
   "execution_count": 14,
   "metadata": {},
   "outputs": [
    {
     "data": {
      "text/plain": [
       "pageviews         0.155589\n",
       "hits              0.154333\n",
       "visitNumber       0.051366\n",
       "visitStartTime    0.002724\n",
       "visitId           0.002724\n",
       "bounces          -0.032206\n",
       "newVisits        -0.041164\n",
       "dtype: float64"
      ]
     },
     "execution_count": 14,
     "metadata": {},
     "output_type": "execute_result"
    }
   ],
   "source": [
    "X.corrwith(y).sort_values(ascending = False)"
   ]
  },
  {
   "cell_type": "code",
   "execution_count": 15,
   "metadata": {},
   "outputs": [],
   "source": [
    "X_numeric = X._get_numeric_data()"
   ]
  },
  {
   "cell_type": "markdown",
   "metadata": {},
   "source": [
    "#### Train_test_split and model with Linear Regression"
   ]
  },
  {
   "cell_type": "code",
   "execution_count": 16,
   "metadata": {},
   "outputs": [],
   "source": [
    "from sklearn.linear_model import RidgeCV, LassoCV, ElasticNetCV, LinearRegression\n",
    "from sklearn.model_selection import train_test_split, cross_val_score\n",
    "from sklearn.pipeline import Pipeline\n",
    "from sklearn.preprocessing import StandardScaler, PolynomialFeatures"
   ]
  },
  {
   "cell_type": "code",
   "execution_count": 17,
   "metadata": {},
   "outputs": [
    {
     "data": {
      "text/plain": [
       "array([[-1.34967236, -0.13624881, -1.34967245, ..., -0.37302941,\n",
       "         0.5341481 , -0.40559985],\n",
       "       [-1.34415681, -0.13624881, -1.3441569 , ..., -0.37302941,\n",
       "         0.5341481 , -0.40559985],\n",
       "       [-1.3457929 , -0.13624881, -1.34579299, ..., -0.37302941,\n",
       "         0.5341481 , -0.40559985],\n",
       "       ...,\n",
       "       [-0.16413607, -0.13624881, -0.16413618, ...,  2.01250841,\n",
       "         0.5341481 ,  2.44137601],\n",
       "       [-0.15677383, -0.13624881, -0.15677316, ...,  2.01250841,\n",
       "         0.5341481 ,  2.58372481],\n",
       "       [-0.15881138, -0.13624881, -0.15881148, ...,  2.73854166,\n",
       "         0.5341481 ,  3.86486395]])"
      ]
     },
     "execution_count": 17,
     "metadata": {},
     "output_type": "execute_result"
    }
   ],
   "source": [
    "ss = StandardScaler()\n",
    "ss.fit(X_numeric)\n",
    "\n",
    "X_s = ss.transform(X_numeric)\n",
    "\n",
    "X_s"
   ]
  },
  {
   "cell_type": "code",
   "execution_count": 18,
   "metadata": {},
   "outputs": [],
   "source": [
    "X_train, X_test, y_train, y_test = train_test_split(X_s, y, random_state=42)"
   ]
  },
  {
   "cell_type": "code",
   "execution_count": 19,
   "metadata": {},
   "outputs": [],
   "source": [
    "# X_train.corrwith(y_train).sort_values()"
   ]
  },
  {
   "cell_type": "code",
   "execution_count": 20,
   "metadata": {},
   "outputs": [
    {
     "data": {
      "text/plain": [
       "LinearRegression(copy_X=True, fit_intercept=True, n_jobs=1, normalize=False)"
      ]
     },
     "execution_count": 20,
     "metadata": {},
     "output_type": "execute_result"
    }
   ],
   "source": [
    "lr = LinearRegression()\n",
    "lr.fit(X_train, y_train)"
   ]
  },
  {
   "cell_type": "code",
   "execution_count": 21,
   "metadata": {},
   "outputs": [
    {
     "data": {
      "text/plain": [
       "(0.027086855266667653, 0.029191651669480345)"
      ]
     },
     "execution_count": 21,
     "metadata": {},
     "output_type": "execute_result"
    }
   ],
   "source": [
    "lr.score(X_train, y_train), lr.score(X_test, y_test)"
   ]
  },
  {
   "cell_type": "code",
   "execution_count": 22,
   "metadata": {},
   "outputs": [],
   "source": [
    "# pipe = Pipeline([\n",
    "#     #('pf', PolynomialFeatures()),\n",
    "#     ('ss', StandardScaler()),\n",
    "#     ('lr', LinearRegression())\n",
    "# ])\n",
    "\n",
    "# pipe.fit(X_train, y_train)\n",
    "\n",
    "# print(pipe.score(X_train, y_train))\n",
    "# print(pipe.score(X_test, y_test))"
   ]
  },
  {
   "cell_type": "markdown",
   "metadata": {},
   "source": [
    "##### Using Ridge and lasso regressing"
   ]
  },
  {
   "cell_type": "code",
   "execution_count": 24,
   "metadata": {},
   "outputs": [
    {
     "data": {
      "text/plain": [
       "(0.026787614162621987, 0.028685552659381663)"
      ]
     },
     "execution_count": 24,
     "metadata": {},
     "output_type": "execute_result"
    }
   ],
   "source": [
    "rcv = RidgeCV(alphas=np.logspace(0, 5,100), cv = 3)\n",
    "\n",
    "rcv.fit(X_train, y_train)\n",
    "\n",
    "rcv.score(X_train, y_train), rcv.score(X_test, y_test)"
   ]
  },
  {
   "cell_type": "code",
   "execution_count": 23,
   "metadata": {},
   "outputs": [
    {
     "data": {
      "text/plain": [
       "(0.027086557312770654, 0.02919000634397395)"
      ]
     },
     "execution_count": 23,
     "metadata": {},
     "output_type": "execute_result"
    }
   ],
   "source": [
    "lcv = LassoCV(cv=3)\n",
    "\n",
    "lcv.fit(X_train, y_train)\n",
    "\n",
    "lcv.score(X_train, y_train), lcv.score(X_test, y_test)"
   ]
  }
 ],
 "metadata": {
  "kernelspec": {
   "display_name": "Python 3",
   "language": "python",
   "name": "python3"
  },
  "language_info": {
   "codemirror_mode": {
    "name": "ipython",
    "version": 3
   },
   "file_extension": ".py",
   "mimetype": "text/x-python",
   "name": "python",
   "nbconvert_exporter": "python",
   "pygments_lexer": "ipython3",
   "version": "3.6.5"
  }
 },
 "nbformat": 4,
 "nbformat_minor": 2
}
